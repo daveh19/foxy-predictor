{
 "cells": [
  {
   "cell_type": "code",
   "execution_count": null,
   "metadata": {
    "collapsed": true
   },
   "outputs": [],
   "source": [
    "\"\"\"\n",
    "This script extracts tables from the website 'http://www.wahlrecht.de/umfragen/' \n",
    "for each polling firm individually.\n",
    "\n",
    "Call the function get_tables() will return a dictionary containing the firm names \n",
    "as keywords and corresponding Pandas dataframe as values.\n",
    "\"\"\""
   ]
  },
  {
   "cell_type": "code",
   "execution_count": 1,
   "metadata": {
    "collapsed": true
   },
   "outputs": [],
   "source": [
    "import pandas as pd\n",
    "import io\n",
    "import requests\n",
    "from bs4 import BeautifulSoup\n",
    "import urllib.request\n",
    "\n",
    "wahlrecht = 'http://www.wahlrecht.de/umfragen/'"
   ]
  },
  {
   "cell_type": "code",
   "execution_count": 21,
   "metadata": {
    "collapsed": true
   },
   "outputs": [],
   "source": [
    "def get_table_from_polling_firm(url):\n",
    "    \"\"\"\n",
    "    extracts tables from the website 'http://www.wahlrecht.de/umfragen/'\n",
    "    for each polling firm, and stores the tables into Pandas dataframes.\n",
    "    \n",
    "    url:    str, the full url of the website, \n",
    "            e.g. 'http://www.wahlrecht.de/umfragen/emnid.htm'\n",
    "    Return: Pandas dataframe\n",
    "    \"\"\"\n",
    "    \n",
    "    page = urllib.request.urlopen(url)\n",
    "    soup = BeautifulSoup(page, 'html.parser')\n",
    "\n",
    "    head = soup.find('thead')\n",
    "    body = soup.find('tbody')\n",
    "\n",
    "    table = []\n",
    "    rows = body.find_all('tr')\n",
    "    for row in rows:\n",
    "        cols = row.find_all('td')\n",
    "        cols = [ele.text.strip() for ele in cols]\n",
    "        table.append([ele for ele in cols if ele]) \n",
    "\n",
    "    header = []\n",
    "    cols = head.find_all('th')\n",
    "    for col in cols:\n",
    "        if col.get_text() != '\\xa0':\n",
    "            header.append(col.get_text())\n",
    "    if header.count('Datum') == 0:\n",
    "        header.insert(0, 'Date')\n",
    "\n",
    "    df = pd.DataFrame(table, columns=header)\n",
    "    return df"
   ]
  },
  {
   "cell_type": "code",
   "execution_count": 53,
   "metadata": {
    "collapsed": false
   },
   "outputs": [],
   "source": [
    "def get_tables():\n",
    "    \"\"\"\n",
    "    goes through the website 'http://www.wahlrecht.de/umfragen/'\n",
    "    and extracts the table for all polling firms individually, \n",
    "    by using get_table_from_polling_firm(arg).\n",
    "    \n",
    "    Return: a dictionary containing the names of polling firms as keywords and the \n",
    "            pd dataframes as values.\n",
    "    \"\"\"\n",
    "    \n",
    "    tables = {}\n",
    "    \n",
    "    page = urllib.request.urlopen(wahlrecht)\n",
    "    soup = BeautifulSoup(page, 'html.parser')\n",
    "\n",
    "    firms_url = []\n",
    "    rows = soup.find_all(class_='in')\n",
    "    for row in rows:\n",
    "        #print(row)\n",
    "        link = row.find('a')\n",
    "        #print(link.get('href'))\n",
    "        firms_url.append(link.get('href'))\n",
    "\n",
    "    for url in firms_url:\n",
    "        df = get_table_from_polling_firm(wahlrecht+url)\n",
    "        #df.to_csv('data/' + url.split('.')[0] + '.csv')\n",
    "        tables[url.split('.')[0]] = df\n",
    "    \n",
    "    return tables"
   ]
  },
  {
   "cell_type": "code",
   "execution_count": 59,
   "metadata": {
    "collapsed": true
   },
   "outputs": [],
   "source": [
    "tables = get_tables()"
   ]
  },
  {
   "cell_type": "code",
   "execution_count": 60,
   "metadata": {
    "collapsed": false
   },
   "outputs": [
    {
     "data": {
      "text/plain": [
       "dict_keys(['politbarometer', 'allensbach', 'emnid', 'dimap', 'gms', 'insa', 'forsa'])"
      ]
     },
     "execution_count": 60,
     "metadata": {},
     "output_type": "execute_result"
    }
   ],
   "source": [
    "tables.keys()"
   ]
  },
  {
   "cell_type": "code",
   "execution_count": null,
   "metadata": {
    "collapsed": true
   },
   "outputs": [],
   "source": []
  },
  {
   "cell_type": "code",
   "execution_count": 23,
   "metadata": {
    "collapsed": false
   },
   "outputs": [],
   "source": [
    "\"\"\" \n",
    "#this is a not nested version of the function get_table_from_polling_firm for testing purpose\n",
    "\n",
    "url = firms_url[-1] \n",
    "#df = get_table_from_polling_firm(wahlrecht+url)\n",
    "\n",
    "page = urllib.request.urlopen(wahlrecht + url)\n",
    "soup = BeautifulSoup(page, 'html.parser')\n",
    "\n",
    "head = soup.find('thead')\n",
    "body = soup.find('tbody')\n",
    "\n",
    "table = []\n",
    "rows = body.find_all('tr')\n",
    "for row in rows:\n",
    "    cols = row.find_all('td')\n",
    "    cols = [ele.text.strip() for ele in cols]\n",
    "    table.append([ele for ele in cols if ele]) \n",
    "\n",
    "header = []\n",
    "cols = head.find_all('th')\n",
    "for col in cols:\n",
    "    if col.get_text() != '\\xa0':\n",
    "        header.append(col.get_text())\n",
    "if header.count('Datum') == 0:\n",
    "    header.insert(0, 'Date')\n",
    "\n",
    "df1 = pd.DataFrame(table, columns=header)\n",
    "\"\"\""
   ]
  },
  {
   "cell_type": "code",
   "execution_count": null,
   "metadata": {
    "collapsed": true
   },
   "outputs": [],
   "source": []
  }
 ],
 "metadata": {
  "anaconda-cloud": {},
  "kernelspec": {
   "display_name": "Python [conda root]",
   "language": "python",
   "name": "conda-root-py"
  },
  "language_info": {
   "codemirror_mode": {
    "name": "ipython",
    "version": 3
   },
   "file_extension": ".py",
   "mimetype": "text/x-python",
   "name": "python",
   "nbconvert_exporter": "python",
   "pygments_lexer": "ipython3",
   "version": "3.5.2"
  }
 },
 "nbformat": 4,
 "nbformat_minor": 1
}
