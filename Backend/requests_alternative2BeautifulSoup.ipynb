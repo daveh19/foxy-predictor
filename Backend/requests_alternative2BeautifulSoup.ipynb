{
 "cells": [
  {
   "cell_type": "markdown",
   "metadata": {},
   "source": [
    "### Alternative to beautiful soup: requestes package\n",
    "#### Read and parse information from html\n",
    "#### Have problems managing xml data, more json oriented"
   ]
  },
  {
   "cell_type": "code",
   "execution_count": 1,
   "metadata": {
    "collapsed": true
   },
   "outputs": [],
   "source": [
    "import requests"
   ]
  },
  {
   "cell_type": "code",
   "execution_count": 2,
   "metadata": {
    "collapsed": true
   },
   "outputs": [],
   "source": [
    "# Request from url\n",
    "s = requests.Session()\n",
    "r = s.get('http://www.wahlrecht.de/umfragen/allensbach.htm')"
   ]
  },
  {
   "cell_type": "code",
   "execution_count": 3,
   "metadata": {
    "collapsed": false
   },
   "outputs": [
    {
     "data": {
      "text/plain": [
       "<Response [200]>"
      ]
     },
     "execution_count": 3,
     "metadata": {},
     "output_type": "execute_result"
    }
   ],
   "source": [
    "r"
   ]
  },
  {
   "cell_type": "code",
   "execution_count": 4,
   "metadata": {
    "collapsed": false
   },
   "outputs": [
    {
     "name": "stdout",
     "output_type": "stream",
     "text": [
      "http://www.wahlrecht.de/umfragen/allensbach.htm\n"
     ]
    }
   ],
   "source": [
    "print(r.url)"
   ]
  },
  {
   "cell_type": "code",
   "execution_count": 5,
   "metadata": {
    "collapsed": false
   },
   "outputs": [
    {
     "data": {
      "text/plain": [
       "'ISO-8859-1'"
      ]
     },
     "execution_count": 5,
     "metadata": {},
     "output_type": "execute_result"
    }
   ],
   "source": [
    "r.encoding"
   ]
  },
  {
   "cell_type": "code",
   "execution_count": 6,
   "metadata": {
    "collapsed": false,
    "scrolled": true
   },
   "outputs": [
    {
     "data": {
      "text/plain": [
       "'<!DOCTYPE HTML PUBLIC \"-//W3C//DTD HTML 4.01 Transitional//EN\" \"http://www.w3.org/TR/html4/loose.dtd\">\\n<html lang=\"de-DE\">\\n\\n<head>\\n<meta http-equiv=\"expires\" content=\"0\">\\n<meta http-equiv=\"content-type\" content=\"text/html; charset=UTF-8\">\\n<meta name=\"description\" content=\"Allensbach &ndash; Aktuelle Ergebnisse von Umfragen zur Bundestagswahl (Sonntagsfrage)\">\\n<title>Sonntagsfrage &ndash; Allensbach</title>\\n<link rel=\"icon\" type=\"image/png\" href=\"../favicon.png\">\\n<link rel=\"alternate\" type=\"application/rss+xml\" title=\"Wahlrecht.de &ndash; Umfragen (RSS)\" href=\"umfragen.xml\">\\n<link rel=\"stylesheet\" type=\"text/css\" href=\"../normal.css\">\\n<link rel=\"stylesheet\" type=\"text/css\" href=\"../images/umfrage.css\">\\n<style type=\"text/css\">\\n<!--\\nh2:target, h3:target, h4:target, ul:target, li:target, p:target, span:target, table:target, col:target, colgroup:target, tr:target, th:target, td:target { background: #e0e0ff; }\\n-->\\n</style>\\n</head>\\n\\n<body>\\n\\n<div class=\"head\">\\n<table class=\"title\" width=\"100%\"><tr>\\n <td class=\"title\" valign=\"top\"><h1>Allensbach <span class=\"titels\">(Institut fÃ¼r Demoskopie)</span></h1></td>\\n <td class=\"index\" align=\"right\">[<a href=\"index.htm\" title=\"Ã\\x9cbergeordnete Seite\">Umfragen</a>]</td></tr>\\n</table><hr></div>\\n\\n\\n<p class=\"wenn\">Wenn am nÃ¤chsten Sonntag Bundestagswahl wÃ¤re &hellip;</p>\\n\\n<p class=\"navi\">\\n<a href=\"allensbach/2002.htm\">1998&ndash;2002</a>&nbsp; |&nbsp;\\n<a href=\"allensbach/2005.htm\">2002&ndash;2005</a>&nbsp; |&nbsp;\\n<a href=\"allensbach/2009.htm\">2005&ndash;2009</a>&nbsp; |&nbsp;\\n<a href=\"allensbach/2013.htm\">2009&ndash;2013</a>&nbsp; |&nbsp;\\n<span class=\"arc\">Aktuell</span></p>\\n\\n<!--\\n<p class=\"navi\">\\n<span class=\"arc\">Gesamt</span>&nbsp; |&nbsp;\\n<a href=\"allensbach/ost.htm\">Ost</a>&nbsp; |&nbsp;\\n<a href=\"allensbach/west.htm\">West</a></p>\\n-->\\n\\n<table class=\"wilko\" align=\"center\" cellpadding=\"2\" cellspacing=\"3\" border=\"0\">\\n<thead>\\n<tr>\\n <th class=\"dat\">&nbsp;</th>\\n <th>&nbsp;</th>\\n <th class=\"part\"><a href=\"#fn-cdu\">CDU</a>/<a href=\"#fn-csu\">CSU</a></th>\\n <th class=\"part\"><a href=\"#fn-spd\">SPD</a></th>\\n <th class=\"part\"><a href=\"#fn-gru\">GRÃ\\x9cNE</a></th>\\n <th class=\"part\"><a href=\"#fn-fdp\">FDP</a></th>\\n <th class=\"part\"><a href=\"#fn-lin\">LINKE</a></th>\\n <th class=\"part\"><a href=\"#fn-afd\">AfD</a></th>\\n <th><a href=\"#fn-son\">Sonstige</a></th>\\n <th>&nbsp;</th>\\n <th class=\"befr\">Befragte</th>\\n <th class=\"dat2\">Zeitraum</th>\\n</tr>\\n</thead>\\n<tfoot>\\n<tr>\\n <th class=\"dat\">&nbsp;</th>\\n <th>&nbsp;</th>\\n <th class=\"part\"><a href=\"#fn-cdu\">CDU</a>/<a href=\"#fn-csu\">CSU</a></th>\\n <th class=\"part\"><a href=\"#fn-spd\">SPD</a></th>\\n <th class=\"part\"><a href=\"#fn-gru\">GRÃ\\x9cNE</a></th>\\n <th class=\"part\"><a href=\"#fn-fdp\">FDP</a></th>\\n <th class=\"part\"><a href=\"#fn-lin\">LINKE</a></th>\\n <th class=\"part\"><a href=\"#fn-afd\">AfD</a></th>\\n <th><a href=\"#fn-son\">Sonstige</a></th>\\n <th>&nbsp;</th>\\n <th class=\"befr\">Befragte</th>\\n <th class=\"dat2\">Zeitraum</th>\\n</tr>\\n<tr>\\n <td colspan=\"11\" class=\"foot\"><!--* EndgÃ¼ltiges Ergebnis der Bundestagswahl 2009<br>-->LINKE: DIE LINKE</td>\\n</tr>\\n<tr>\\n <td colspan=\"11\" class=\"foot\" id=\"abkuerzungen-parteien\">\\n <span id=\"fn-afd\">AfD = Alternative fÃ¼r Deutschland</span><br>\\n <span id=\"fn-cdu\">CDU = Christlich Demokratische Union Deutschlands</span><br>\\n <span id=\"fn-csu\">CSU = Christlich-Soziale Union in Bayern e. V.</span><br> \\n <span id=\"fn-fdp\">FDP = Freie Demokratische Partei</span><br>\\n <span id=\"fn-gru\">GRÃ\\x9cNE = BÃ\\x9cNDNIS 90/DIE GRÃ\\x9cNEN</span><br>\\n <span id=\"fn-lin\">LINKE = DIE LINKE</span><br>\\n <span id=\"fn-pir\">PIRATEN = Piratenpartei Deutschland</span><br>\\n <span id=\"fn-son\">Sonstige = sonstige Parteien</span><br>\\n <span id=\"fn-spd\">SPD = Sozialdemokratische Partei Deutschlands</span><br><br>\\n â\\x80\\x93 <span id=\"fn0\">Als Umfragewert: nicht ausgewiesen; als Wahlergebnis: nicht teilgenommen<br>&nbsp;</span><br>\\n</td>\\n</tr>\\n</tfoot>\\n<tbody>\\n<tr>\\n <td class=\"s\">25.04.2017</td>\\n <td>&nbsp;</td>\\n <td>36,0 %</td>\\n <td>31,0 %</td>\\n <td>7,0 %</td>\\n <td>6,0 %</td>\\n <td>9,0 %</td>\\n <td>7,0 %</td>\\n <td>4,0 %</td>\\n <td>&nbsp;</td>\\n <td class=\"s\">1.407</td>\\n <td class=\"s\">01.04.&ndash;13.04.</td>\\n</tr>\\n<tr>\\n <td class=\"s\">28.03.2017</td>\\n <td>&nbsp;</td>\\n <td>34,0 %</td>\\n <td>33,0 %</td>\\n <td>7,5 %</td>\\n <td>6,5 %</td>\\n <td>8,0 %</td>\\n <td>7,0 %</td>\\n <td>4,0 %</td>\\n <td>&nbsp;</td>\\n <td class=\"s\">1.397</td>\\n <td class=\"s\">06.03.&ndash;19.03.</td>\\n</tr>\\n<tr>\\n <td class=\"s\">22.02.2017</td>\\n <td>&nbsp;</td>\\n <td>33,0 %</td>\\n <td>30,5 %</td>\\n <td>8,0 %</td>\\n <td>7,0 %</td>\\n <td>8,0 %</td>\\n <td>8,5 %</td>\\n <td>5,0 %</td>\\n <td>&nbsp;</td>\\n <td class=\"s\">1.542</td>\\n <td class=\"s\">01.02.&ndash;15.02.</td>\\n</tr>\\n<tr>\\n <td class=\"s\">26.01.2017</td>\\n <td>&nbsp;</td>\\n <td>36,0 %</td>\\n <td>23,0 %</td>\\n <td>9,0 %</td>\\n <td>7,0 %</td>\\n <td>9,5 %</td>\\n <td>11,5 %</td>\\n <td>4,0 %</td>\\n <td>&nbsp;</td>\\n <td class=\"s\">1.441</td>\\n <td class=\"s\">05.01.&ndash;19.01.</td>\\n</tr>\\n<tr>\\n <td class=\"s\">22.12.2016</td>\\n <td>&nbsp;</td>\\n <td>35,5 %</td>\\n <td>22,0 %</td>\\n <td>10,0 %</td>\\n <td>7,5 %</td>\\n <td>9,5 %</td>\\n <td>10,5 %</td>\\n <td>5,0 %</td>\\n <td>&nbsp;</td>\\n <td class=\"s\">1.459</td>\\n <td class=\"s\">01.12.&ndash;15.12.</td>\\n</tr>\\n<tr>\\n <td class=\"s\">16.11.2016</td>\\n <td>&nbsp;</td>\\n <td>34,0 %</td>\\n <td>23,0 %</td>\\n <td>11,0 %</td>\\n <td>7,5 %</td>\\n <td>9,0 %</td>\\n <td>10,5 %</td>\\n <td>5,0 %</td>\\n <td>&nbsp;</td>\\n <td class=\"s\">1.436</td>\\n <td class=\"s\">28.10.&ndash;10.11.</td>\\n</tr>\\n<tr>\\n <td class=\"s\">20.10.2016</td>\\n <td>&nbsp;</td>\\n <td>33,0 %</td>\\n <td>22,0 %</td>\\n <td>12,0 %</td>\\n <td>7,5 %</td>\\n <td>9,0 %</td>\\n <td>12,5 %</td>\\n <td>4,0 %</td>\\n <td>&nbsp;</td>\\n <td class=\"s\">1.458</td>\\n <td class=\"s\">01.10.&ndash;13.10.</td>\\n</tr>\\n<tr>\\n <td class=\"s\">22.09.2016</td>\\n <td>&nbsp;</td>\\n <td>33,5 %</td>\\n <td>24,0 %</td>\\n <td>11,0 %</td>\\n <td>7,0 %</td>\\n <td>7,0 %</td>\\n <td>12,5 %</td>\\n <td>5,0 %</td>\\n <td>&nbsp;</td>\\n <td class=\"s\">1.407</td>\\n <td class=\"s\">03.09.&ndash;15.09.</td>\\n</tr>\\n<tr>\\n <td class=\"s\">24.08.2016</td>\\n <td>&nbsp;</td>\\n <td>34,5 %</td>\\n <td>23,0 %</td>\\n <td>11,5 %</td>\\n <td>7,5 %</td>\\n <td>9,0 %</td>\\n <td>10,0 %</td>\\n <td>4,5 %</td>\\n <td>&nbsp;</td>\\n <td class=\"s\">1.496</td>\\n <td class=\"s\">03.08.&ndash;17.08.</td>\\n</tr>\\n<tr>\\n <td class=\"s\">21.07.2016</td>\\n <td>&nbsp;</td>\\n <td>35,5 %</td>\\n <td>22,5 %</td>\\n <td>12,0 %</td>\\n <td>7,0 %</td>\\n <td>9,5 %</td>\\n <td>9,5 %</td>\\n <td>4,0 %</td>\\n <td>&nbsp;</td>\\n <td class=\"s\">1.466</td>\\n <td class=\"s\">01.07.&ndash;14.07.</td>\\n</tr>\\n<tr>\\n <td class=\"s\">15.06.2016</td>\\n <td>&nbsp;</td>\\n <td>33,5 %</td>\\n <td>21,0 %</td>\\n <td>12,0 %</td>\\n <td>8,0 %</td>\\n <td>9,0 %</td>\\n <td>11,5 %</td>\\n <td>5,0 %</td>\\n <td>&nbsp;</td>\\n <td class=\"s\">1.396</td>\\n <td class=\"s\">27.05.&ndash;09.06.</td>\\n</tr>\\n<tr>\\n <td class=\"s\">17.05.2016</td>\\n <td>&nbsp;</td>\\n <td>33,5 %</td>\\n <td>21,0 %</td>\\n <td>11,5 %</td>\\n <td>8,0 %</td>\\n <td>9,0 %</td>\\n <td>12,5 %</td>\\n <td>4,5 %</td>\\n <td>&nbsp;</td>\\n <td class=\"s\">1.474</td>\\n <td class=\"s\">28.04.&ndash;12.05.</td>\\n</tr>\\n<tr>\\n <td class=\"s\">20.04.2016</td>\\n <td>&nbsp;</td>\\n <td>33,5 %</td>\\n <td>23,0 %</td>\\n <td>11,0 %</td>\\n <td>8,0 %</td>\\n <td>9,0 %</td>\\n <td>10,5 %</td>\\n <td>5,0 %</td>\\n <td>&nbsp;</td>\\n <td class=\"s\">1.388</td>\\n <td class=\"s\">01.04.&ndash;14.04.</td>\\n</tr>\\n<tr>\\n <td class=\"s\">18.03.2016</td>\\n <td>&nbsp;</td>\\n <td>35,0 %</td>\\n <td>24,5 %</td>\\n <td>10,0 %</td>\\n <td>7,0 %</td>\\n <td>9,0 %</td>\\n <td>10,5 %</td>\\n <td>4,0 %</td>\\n <td>&nbsp;</td>\\n <td class=\"s\">1.456</td>\\n <td class=\"s\">26.02.&ndash;10.03.</td>\\n</tr>\\n<tr>\\n <td class=\"s\">17.02.2016</td>\\n <td>&nbsp;</td>\\n <td>33,5 %</td>\\n <td>24,0 %</td>\\n <td>10,0 %</td>\\n <td>7,0 %</td>\\n <td>10,0 %</td>\\n <td>10,5 %</td>\\n <td>5,0 %</td>\\n <td>&nbsp;</td>\\n <td class=\"s\">1.521</td>\\n <td class=\"s\">01.02.&ndash;11.02.</td>\\n</tr>\\n<tr>\\n <td class=\"s\">26.01.2016</td>\\n <td>&nbsp;</td>\\n <td>35,0 %</td>\\n <td>25,0 %</td>\\n <td>9,0 %</td>\\n <td>6,5 %</td>\\n <td>9,5 %</td>\\n <td>10,0 %</td>\\n <td>5,0 %</td>\\n <td>&nbsp;</td>\\n <td class=\"s\">1.431</td>\\n <td class=\"s\">07.01.&ndash;21.01.</td>\\n</tr>\\n<tr>\\n <td class=\"s\">16.12.2015</td>\\n <td>&nbsp;</td>\\n <td>38,0 %</td>\\n <td>26,0 %</td>\\n <td>9,5 %</td>\\n <td>5,0 %</td>\\n <td>8,5 %</td>\\n <td>8,0 %</td>\\n <td>5,0 %</td>\\n <td>&nbsp;</td>\\n <td class=\"s\">1.457</td>\\n <td class=\"s\">28.11.&ndash;10.12.</td>\\n</tr>\\n<tr>\\n <td class=\"s\">19.11.2015</td>\\n <td>&nbsp;</td>\\n <td>37,5 %</td>\\n <td>26,0 %</td>\\n <td>9,5 %</td>\\n <td>5,5 %</td>\\n <td>9,5 %</td>\\n <td>7,0 %</td>\\n <td>5,0 %</td>\\n <td>&nbsp;</td>\\n <td class=\"s\">1.448</td>\\n <td class=\"s\">01.11.&ndash;11.11.</td>\\n</tr>\\n<tr>\\n <td class=\"s\">20.10.2015</td>\\n <td>&nbsp;</td>\\n <td>38,0 %</td>\\n <td>26,0 %</td>\\n <td>9,5 %</td>\\n <td>5,5 %</td>\\n <td>9,0 %</td>\\n <td>7,0 %</td>\\n <td>5,0 %</td>\\n <td>&nbsp;</td>\\n <td class=\"s\">â\\x89\\x881.400</td>\\n <td class=\"s\">03.10.&ndash;16.10.</td>\\n</tr>\\n<tr>\\n <td class=\"s\">16.09.2015</td>\\n <td>&nbsp;</td>\\n <td>42,0 %</td>\\n <td>25,5 %</td>\\n <td>9,5 %</td>\\n <td>6,0 %</td>\\n <td>8,5 %</td>\\n <td>3,5 %</td>\\n <td>5,0 %</td>\\n <td>&nbsp;</td>\\n <td class=\"s\">â\\x89\\x881.400</td>\\n <td class=\"s\">01.09.&ndash;12.09.</td>\\n</tr>\\n<tr>\\n <td class=\"s\">19.08.2015</td>\\n <td>&nbsp;</td>\\n <td>41,5 %</td>\\n <td>26,0 %</td>\\n <td>9,5 %</td>\\n <td>5,5 %</td>\\n <td>9,0 %</td>\\n <td>3,5 %</td>\\n <td>5,0 %</td>\\n <td>&nbsp;</td>\\n <td class=\"s\">â\\x89\\x881.400</td>\\n <td class=\"s\">01.08.&ndash;14.08.</td>\\n</tr>\\n<tr>\\n <td class=\"s\">16.07.2015</td>\\n <td>&nbsp;</td>\\n <td>40,5 %</td>\\n <td>25,5 %</td>\\n <td>10,0 %</td>\\n <td>5,5 %</td>\\n <td>9,5 %</td>\\n <td>4,0 %</td>\\n <td>5,0 %</td>\\n <td>&nbsp;</td>\\n <td class=\"s\">â\\x89\\x881.200</td>\\n <td class=\"s\">01.07.&ndash;13.07.</td>\\n</tr>\\n<tr>\\n <td class=\"s\">18.06.2015</td>\\n <td>&nbsp;</td>\\n <td>41,5 %</td>\\n <td>26,0 %</td>\\n <td>10,0 %</td>\\n <td>5,0 %</td>\\n <td>8,5 %</td>\\n <td>4,0 %</td>\\n <td>5,0 %</td>\\n <td>&nbsp;</td>\\n <td class=\"s\">â\\x89\\x881.400</td>\\n <td class=\"s\">01.06.&ndash;14.06.</td>\\n</tr>\\n<tr>\\n <td class=\"s\">21.05.2015</td>\\n <td>&nbsp;</td>\\n <td>41,5 %</td>\\n <td>25,5 %</td>\\n <td>9,5 %</td>\\n <td>5,0 %</td>\\n <td>9,0 %</td>\\n <td>5,0 %</td>\\n <td>4,5 %</td>\\n <td>&nbsp;</td>\\n <td class=\"s\">1.450</td>\\n <td class=\"s\">02.05.&ndash;08.05.</td>\\n</tr>\\n<tr>\\n <td class=\"s\">16.04.2015</td>\\n <td>&nbsp;</td>\\n <td>40,5 %</td>\\n <td>26,5 %</td>\\n <td>9,5 %</td>\\n <td>5,0 %</td>\\n <td>8,5 %</td>\\n <td>6,0 %</td>\\n <td>4,0 %</td>\\n <td>&nbsp;</td>\\n <td class=\"s\">1.430</td>\\n <td class=\"s\">28.03.&ndash;10.04.</td>\\n</tr>\\n<tr>\\n <td class=\"s\">19.03.2015</td>\\n <td>&nbsp;</td>\\n <td>41,5 %</td>\\n <td>26,0 %</td>\\n <td>9,5 %</td>\\n <td>5,0 %</td>\\n <td>8,0 %</td>\\n <td>6,0 %</td>\\n <td>4,0 %</td>\\n <td>&nbsp;</td>\\n <td class=\"s\">1.500</td>\\n <td class=\"s\">01.03.&ndash;12.03.</td>\\n</tr>\\n<tr>\\n <td class=\"s\">19.02.2015</td>\\n <td>&nbsp;</td>\\n <td>41,0 %</td>\\n <td>25,5 %</td>\\n <td>9,5 %</td>\\n <td>5,0 %</td>\\n <td>9,0 %</td>\\n <td>6,0 %</td>\\n <td>4,0 %</td>\\n <td>&nbsp;</td>\\n <td class=\"s\">1.400</td>\\n <td class=\"s\">01.02.&ndash;12.02.</td>\\n</tr>\\n<tr>\\n <td class=\"s\">28.01.2015</td>\\n <td>&nbsp;</td>\\n <td>41,5 %</td>\\n <td>25,0 %</td>\\n <td>10,5 %</td>\\n <td>4,0 %</td>\\n <td>8,5 %</td>\\n <td>6,0 %</td>\\n <td>4,5 %</td>\\n <td>&nbsp;</td>\\n <td class=\"s\">1.455</td>\\n <td class=\"s\">09.01.&ndash;23.01.</td>\\n</tr>\\n<tr>\\n <td class=\"s\">17.12.2014</td>\\n <td>&nbsp;</td>\\n <td>40,5 %</td>\\n <td>26,0 %</td>\\n <td>9,5 %</td>\\n <td>3,5 %</td>\\n <td>8,5 %</td>\\n <td>7,0 %</td>\\n <td>5,0 %</td>\\n <td>&nbsp;</td>\\n <td class=\"s\">1.505</td>\\n <td class=\"s\">01.12.&ndash;12.12.</td>\\n</tr>\\n<tr>\\n <td class=\"s\">19.11.2014</td>\\n <td>&nbsp;</td>\\n <td>40,5 %</td>\\n <td>27,0 %</td>\\n <td>9,5 %</td>\\n <td>3,5 %</td>\\n <td>8,0 %</td>\\n <td>6,5 %</td>\\n <td>5,0 %</td>\\n <td>&nbsp;</td>\\n <td class=\"s\">?</td>\\n <td class=\"s\">01.11.&ndash;13.11.</td>\\n</tr>\\n<tr>\\n <td class=\"s\">21.10.2014</td>\\n <td>&nbsp;</td>\\n <td>39,5 %</td>\\n <td>26,0 %</td>\\n <td>10,5 %</td>\\n <td>3,0 %</td>\\n <td>8,5 %</td>\\n <td>7,5 %</td>\\n <td>5,0 %</td>\\n <td>&nbsp;</td>\\n <td class=\"s\">?</td>\\n <td class=\"s\">04.10.&ndash;16.10.</td>\\n</tr>\\n<tr>\\n <td class=\"s\">17.09.2014</td>\\n <td>&nbsp;</td>\\n <td>41,0 %</td>\\n <td>25,5 %</td>\\n <td>10,0 %</td>\\n <td>4,0 %</td>\\n <td>8,5 %</td>\\n <td>6,5 %</td>\\n <td>4,5 %</td>\\n <td>&nbsp;</td>\\n <td class=\"s\">?</td>\\n <td class=\"s\">01.09.&ndash;11.09.</td>\\n</tr>\\n<tr>\\n <td class=\"s\">20.08.2014</td>\\n <td>&nbsp;</td>\\n <td>41,0 %</td>\\n <td>26,5 %</td>\\n <td>10,0 %</td>\\n <td>3,0 %</td>\\n <td>8,0 %</td>\\n <td>6,5 %</td>\\n <td>5,0 %</td>\\n <td>&nbsp;</td>\\n <td class=\"s\">?</td>\\n <td class=\"s\">21.07.&ndash;05.08.</td>\\n</tr>\\n<tr>\\n <td class=\"s\">16.07.2014</td>\\n <td>&nbsp;</td>\\n <td>40,5 %</td>\\n <td>25,0 %</td>\\n <td>11,0 %</td>\\n <td>3,5 %</td>\\n <td>8,5 %</td>\\n <td>6,0 %</td>\\n <td>5,5 %</td>\\n <td>&nbsp;</td>\\n <td class=\"s\">?</td>\\n <td class=\"s\">28.06.&ndash;11.07.</td>\\n</tr>\\n<tr>\\n <td class=\"s\">20.06.2014</td>\\n <td>&nbsp;</td>\\n <td>40,0 %</td>\\n <td>26,0 %</td>\\n <td>10,0 %</td>\\n <td>4,0 %</td>\\n <td>8,0 %</td>\\n <td>6,0 %</td>\\n <td>6,0 %</td>\\n <td>&nbsp;</td>\\n <td class=\"s\">?</td>\\n <td class=\"s\">28.05.&ndash;13.06.</td>\\n</tr>\\n<tr>\\n <td class=\"s\">14.05.2014</td>\\n <td>&nbsp;</td>\\n <td>39,5 %</td>\\n <td>26,0 %</td>\\n <td>10,5 %</td>\\n <td>5,0 %</td>\\n <td>8,0 %</td>\\n <td>5,5 %</td>\\n <td>5,5 %</td>\\n <td>&nbsp;</td>\\n <td class=\"s\">?</td>\\n <td class=\"s\">25.04.&ndash;09.05.</td>\\n</tr>\\n<tr>\\n <td class=\"s\">16.04.2014</td>\\n <td>&nbsp;</td>\\n <td>40,0 %</td>\\n <td>26,5 %</td>\\n <td>11,0 %</td>\\n <td>4,5 %</td>\\n <td>8,0 %</td>\\n <td>5,0 %</td>\\n <td>5,0 %</td>\\n <td>&nbsp;</td>\\n <td class=\"s\">1.571</td>\\n <td class=\"s\">28.03.&ndash;10.04.</td>\\n</tr>\\n<tr>\\n <td class=\"s\">19.03.2014</td>\\n <td>&nbsp;</td>\\n <td>40,5 %</td>\\n <td>25,0 %</td>\\n <td>10,0 %</td>\\n <td>5,0 %</td>\\n <td>9,0 %</td>\\n <td>5,0 %</td>\\n <td>5,5 %</td>\\n <td>&nbsp;</td>\\n <td class=\"s\">?</td>\\n <td class=\"s\">01.03.&ndash;13.03.</td>\\n</tr>\\n<tr>\\n <td class=\"s\">20.02.2014</td>\\n <td>&nbsp;</td>\\n <td>40,0 %</td>\\n <td>26,5 %</td>\\n <td>10,5 %</td>\\n <td>4,0 %</td>\\n <td>9,0 %</td>\\n <td>5,0 %</td>\\n <td>5,0 %</td>\\n <td>&nbsp;</td>\\n <td class=\"s\">?</td>\\n <td class=\"s\">01.02.&ndash;13.02.</td>\\n</tr>\\n<tr>\\n <td class=\"s\">29.01.2014</td>\\n <td>&nbsp;</td>\\n <td>40,0 %</td>\\n <td>26,0 %</td>\\n <td>10,0 %</td>\\n <td>5,0 %</td>\\n <td>8,5 %</td>\\n <td>5,0 %</td>\\n <td>5,5 %</td>\\n <td>&nbsp;</td>\\n <td class=\"s\">?</td>\\n <td class=\"s\">10.01.&ndash;23.01.</td>\\n</tr>\\n<tr>\\n <td class=\"s\">19.12.2013</td>\\n <td>&nbsp;</td>\\n <td>41,5 %</td>\\n <td>25,5 %</td>\\n <td>10,5 %</td>\\n <td>4,0 %</td>\\n <td>9,0 %</td>\\n <td>4,5 %</td>\\n <td>5,0 %</td>\\n <td>&nbsp;</td>\\n <td class=\"s\">?</td>\\n <td class=\"s\">01.12.&ndash;12.12.</td>\\n</tr>\\n<tr>\\n <td class=\"s\">27.11.2013</td>\\n <td>&nbsp;</td>\\n <td>40,0 %</td>\\n <td>26,5 %</td>\\n <td>10,0 %</td>\\n <td>4,0 %</td>\\n <td>9,5 %</td>\\n <td>5,0 %</td>\\n <td>5,0 %</td>\\n <td>&nbsp;</td>\\n <td class=\"s\">?</td>\\n <td class=\"s\">08.11.&ndash;21.11.</td>\\n</tr>\\n<tr>\\n <td class=\"s\">23.10.2013</td>\\n <td>&nbsp;</td>\\n <td>41,0 %</td>\\n <td>25,0 %</td>\\n <td>9,0 %</td>\\n <td>5,0 %</td>\\n <td>9,0 %</td>\\n <td>5,5 %</td>\\n <td>5,5 %</td>\\n <td>&nbsp;</td>\\n <td class=\"s\">?</td>\\n <td class=\"s\">01.10.&ndash;16.10.</td>\\n</tr>\\n<tr>\\n <td class=\"ws\">22.09.2013</td>\\n <td>&nbsp;</td>\\n <td class=\"w\">41,5 %</td>\\n <td class=\"w\">25,7 %</td>\\n <td class=\"w\">8,4 %</td>\\n <td class=\"w\">4,8 %</td>\\n <td class=\"w\">8,6 %</td>\\n <td class=\"w\">4,7 %</td>\\n <td class=\"ws\"><a href=\"#fn-pir\">PIR</a> 2,2 %<br><a href=\"#fn-son\">Sonst.</a> 4,0 %</td>\\n <td>&nbsp;</td>\\n <td class=\"ws\" colspan=\"2\"><a href=\"../news/2013/bundestagswahl-2013.html#absolut\">Bundestagswahl</a></td>\\n</tr>\\n</tbody>\\n</table>\\n\\n<div class=\"indent2\">\\n\\n<p class=\"i\" id=\"quelle\">(Quelle und Auftraggeber: <span id=\"faz\"><a class=\"extern\" rel=\"nofollow\" href=\"http://www.faz.net\">Frankfurter Allgemeine Zeitung</a></span>; angegeben ist das Datum der VerÃ¶ffentlichung)</p>\\n\\n\\n<h3 id=\"links\">Links</h3>\\n\\n<ul>\\n <li><a href=\"../bundestag/\">Wahlsystem der Bundestagswahl in Deutschland</a></li>\\n <li><a href=\"../bundestag/2013/index.html\">Bundestagswahl 2013</a></li>\\n <li><a href=\"../bundestag/2009/index.html\">Bundestagswahl 2009</a></li>\\n <li><a href=\"../bundestag/2005/index.html\">Bundestagswahl 2005</a></li>\\n <li><a href=\"../ergebnisse/bundestag.htm\">Wahlergebnisse der bisherigen Bundestagswahlen</a></li>\\n</ul>\\n\\n</div>\\n\\n<div class=\"foot\">\\n<hr><address>zusammengestellt von <a href=\"../kontakt.htm#kontakt\">Wilko Zicht</a> und <a href=\"../kontakt.htm#kontakt\">Matthias Cantow</a></address></div></body></html>\\n'"
      ]
     },
     "execution_count": 6,
     "metadata": {},
     "output_type": "execute_result"
    }
   ],
   "source": [
    "r.text"
   ]
  },
  {
   "cell_type": "code",
   "execution_count": 7,
   "metadata": {
    "collapsed": false
   },
   "outputs": [
    {
     "ename": "JSONDecodeError",
     "evalue": "Expecting value: line 1 column 1 (char 0)",
     "output_type": "error",
     "traceback": [
      "\u001b[0;31m---------------------------------------------------------------------------\u001b[0m",
      "\u001b[0;31mJSONDecodeError\u001b[0m                           Traceback (most recent call last)",
      "\u001b[0;32m<ipython-input-7-9c78734cbfe1>\u001b[0m in \u001b[0;36m<module>\u001b[0;34m()\u001b[0m\n\u001b[0;32m----> 1\u001b[0;31m \u001b[0mr\u001b[0m\u001b[0;34m.\u001b[0m\u001b[0mjson\u001b[0m\u001b[0;34m(\u001b[0m\u001b[0;34m)\u001b[0m\u001b[0;34m\u001b[0m\u001b[0m\n\u001b[0m",
      "\u001b[0;32m/System/Library/anaconda/envs/bccn2017/lib/python3.6/site-packages/requests/models.py\u001b[0m in \u001b[0;36mjson\u001b[0;34m(self, **kwargs)\u001b[0m\n\u001b[1;32m    848\u001b[0m                     \u001b[0;31m# used.\u001b[0m\u001b[0;34m\u001b[0m\u001b[0;34m\u001b[0m\u001b[0m\n\u001b[1;32m    849\u001b[0m                     \u001b[0;32mpass\u001b[0m\u001b[0;34m\u001b[0m\u001b[0m\n\u001b[0;32m--> 850\u001b[0;31m         \u001b[0;32mreturn\u001b[0m \u001b[0mcomplexjson\u001b[0m\u001b[0;34m.\u001b[0m\u001b[0mloads\u001b[0m\u001b[0;34m(\u001b[0m\u001b[0mself\u001b[0m\u001b[0;34m.\u001b[0m\u001b[0mtext\u001b[0m\u001b[0;34m,\u001b[0m \u001b[0;34m**\u001b[0m\u001b[0mkwargs\u001b[0m\u001b[0;34m)\u001b[0m\u001b[0;34m\u001b[0m\u001b[0m\n\u001b[0m\u001b[1;32m    851\u001b[0m \u001b[0;34m\u001b[0m\u001b[0m\n\u001b[1;32m    852\u001b[0m     \u001b[0;34m@\u001b[0m\u001b[0mproperty\u001b[0m\u001b[0;34m\u001b[0m\u001b[0m\n",
      "\u001b[0;32m/System/Library/anaconda/envs/bccn2017/lib/python3.6/json/__init__.py\u001b[0m in \u001b[0;36mloads\u001b[0;34m(s, encoding, cls, object_hook, parse_float, parse_int, parse_constant, object_pairs_hook, **kw)\u001b[0m\n\u001b[1;32m    352\u001b[0m             \u001b[0mparse_int\u001b[0m \u001b[0;32mis\u001b[0m \u001b[0;32mNone\u001b[0m \u001b[0;32mand\u001b[0m \u001b[0mparse_float\u001b[0m \u001b[0;32mis\u001b[0m \u001b[0;32mNone\u001b[0m \u001b[0;32mand\u001b[0m\u001b[0;34m\u001b[0m\u001b[0m\n\u001b[1;32m    353\u001b[0m             parse_constant is None and object_pairs_hook is None and not kw):\n\u001b[0;32m--> 354\u001b[0;31m         \u001b[0;32mreturn\u001b[0m \u001b[0m_default_decoder\u001b[0m\u001b[0;34m.\u001b[0m\u001b[0mdecode\u001b[0m\u001b[0;34m(\u001b[0m\u001b[0ms\u001b[0m\u001b[0;34m)\u001b[0m\u001b[0;34m\u001b[0m\u001b[0m\n\u001b[0m\u001b[1;32m    355\u001b[0m     \u001b[0;32mif\u001b[0m \u001b[0mcls\u001b[0m \u001b[0;32mis\u001b[0m \u001b[0;32mNone\u001b[0m\u001b[0;34m:\u001b[0m\u001b[0;34m\u001b[0m\u001b[0m\n\u001b[1;32m    356\u001b[0m         \u001b[0mcls\u001b[0m \u001b[0;34m=\u001b[0m \u001b[0mJSONDecoder\u001b[0m\u001b[0;34m\u001b[0m\u001b[0m\n",
      "\u001b[0;32m/System/Library/anaconda/envs/bccn2017/lib/python3.6/json/decoder.py\u001b[0m in \u001b[0;36mdecode\u001b[0;34m(self, s, _w)\u001b[0m\n\u001b[1;32m    337\u001b[0m \u001b[0;34m\u001b[0m\u001b[0m\n\u001b[1;32m    338\u001b[0m         \"\"\"\n\u001b[0;32m--> 339\u001b[0;31m         \u001b[0mobj\u001b[0m\u001b[0;34m,\u001b[0m \u001b[0mend\u001b[0m \u001b[0;34m=\u001b[0m \u001b[0mself\u001b[0m\u001b[0;34m.\u001b[0m\u001b[0mraw_decode\u001b[0m\u001b[0;34m(\u001b[0m\u001b[0ms\u001b[0m\u001b[0;34m,\u001b[0m \u001b[0midx\u001b[0m\u001b[0;34m=\u001b[0m\u001b[0m_w\u001b[0m\u001b[0;34m(\u001b[0m\u001b[0ms\u001b[0m\u001b[0;34m,\u001b[0m \u001b[0;36m0\u001b[0m\u001b[0;34m)\u001b[0m\u001b[0;34m.\u001b[0m\u001b[0mend\u001b[0m\u001b[0;34m(\u001b[0m\u001b[0;34m)\u001b[0m\u001b[0;34m)\u001b[0m\u001b[0;34m\u001b[0m\u001b[0m\n\u001b[0m\u001b[1;32m    340\u001b[0m         \u001b[0mend\u001b[0m \u001b[0;34m=\u001b[0m \u001b[0m_w\u001b[0m\u001b[0;34m(\u001b[0m\u001b[0ms\u001b[0m\u001b[0;34m,\u001b[0m \u001b[0mend\u001b[0m\u001b[0;34m)\u001b[0m\u001b[0;34m.\u001b[0m\u001b[0mend\u001b[0m\u001b[0;34m(\u001b[0m\u001b[0;34m)\u001b[0m\u001b[0;34m\u001b[0m\u001b[0m\n\u001b[1;32m    341\u001b[0m         \u001b[0;32mif\u001b[0m \u001b[0mend\u001b[0m \u001b[0;34m!=\u001b[0m \u001b[0mlen\u001b[0m\u001b[0;34m(\u001b[0m\u001b[0ms\u001b[0m\u001b[0;34m)\u001b[0m\u001b[0;34m:\u001b[0m\u001b[0;34m\u001b[0m\u001b[0m\n",
      "\u001b[0;32m/System/Library/anaconda/envs/bccn2017/lib/python3.6/json/decoder.py\u001b[0m in \u001b[0;36mraw_decode\u001b[0;34m(self, s, idx)\u001b[0m\n\u001b[1;32m    355\u001b[0m             \u001b[0mobj\u001b[0m\u001b[0;34m,\u001b[0m \u001b[0mend\u001b[0m \u001b[0;34m=\u001b[0m \u001b[0mself\u001b[0m\u001b[0;34m.\u001b[0m\u001b[0mscan_once\u001b[0m\u001b[0;34m(\u001b[0m\u001b[0ms\u001b[0m\u001b[0;34m,\u001b[0m \u001b[0midx\u001b[0m\u001b[0;34m)\u001b[0m\u001b[0;34m\u001b[0m\u001b[0m\n\u001b[1;32m    356\u001b[0m         \u001b[0;32mexcept\u001b[0m \u001b[0mStopIteration\u001b[0m \u001b[0;32mas\u001b[0m \u001b[0merr\u001b[0m\u001b[0;34m:\u001b[0m\u001b[0;34m\u001b[0m\u001b[0m\n\u001b[0;32m--> 357\u001b[0;31m             \u001b[0;32mraise\u001b[0m \u001b[0mJSONDecodeError\u001b[0m\u001b[0;34m(\u001b[0m\u001b[0;34m\"Expecting value\"\u001b[0m\u001b[0;34m,\u001b[0m \u001b[0ms\u001b[0m\u001b[0;34m,\u001b[0m \u001b[0merr\u001b[0m\u001b[0;34m.\u001b[0m\u001b[0mvalue\u001b[0m\u001b[0;34m)\u001b[0m \u001b[0;32mfrom\u001b[0m \u001b[0;32mNone\u001b[0m\u001b[0;34m\u001b[0m\u001b[0m\n\u001b[0m\u001b[1;32m    358\u001b[0m         \u001b[0;32mreturn\u001b[0m \u001b[0mobj\u001b[0m\u001b[0;34m,\u001b[0m \u001b[0mend\u001b[0m\u001b[0;34m\u001b[0m\u001b[0m\n",
      "\u001b[0;31mJSONDecodeError\u001b[0m: Expecting value: line 1 column 1 (char 0)"
     ]
    }
   ],
   "source": [
    "r.json()"
   ]
  },
  {
   "cell_type": "code",
   "execution_count": null,
   "metadata": {
    "collapsed": true
   },
   "outputs": [],
   "source": []
  }
 ],
 "metadata": {
  "kernelspec": {
   "display_name": "Python 3",
   "language": "python",
   "name": "python3"
  },
  "language_info": {
   "codemirror_mode": {
    "name": "ipython",
    "version": 3
   },
   "file_extension": ".py",
   "mimetype": "text/x-python",
   "name": "python",
   "nbconvert_exporter": "python",
   "pygments_lexer": "ipython3",
   "version": "3.6.0"
  }
 },
 "nbformat": 4,
 "nbformat_minor": 2
}
