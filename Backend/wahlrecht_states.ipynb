{
 "cells": [
  {
   "cell_type": "code",
   "execution_count": 1,
   "metadata": {
    "collapsed": true
   },
   "outputs": [],
   "source": [
    "import pandas as pd\n",
    "from bs4 import BeautifulSoup\n",
    "import urllib.request"
   ]
  },
  {
   "cell_type": "code",
   "execution_count": 2,
   "metadata": {
    "collapsed": false,
    "scrolled": true
   },
   "outputs": [],
   "source": [
    "def get_states_tables():\n",
    "    \"\"\"\n",
    "    Goes through the website 'http://www.wahlrecht.de/umfragen/laender.htm'\n",
    "    and extracts the table for states individually, \n",
    "    \n",
    "    Return: a dictionary containing the id names of the states as keywords and the \n",
    "            pd dataframes as values.\n",
    "    \"\"\"\n",
    "    tables = {} # {'state': df}\n",
    "\n",
    "    page = urllib.request.urlopen('http://www.wahlrecht.de/umfragen/laender.htm')\n",
    "    soup = BeautifulSoup(page, 'html.parser')\n",
    "    \n",
    "    # Find the subtables\n",
    "    states = soup.find_all('th', colspan='10', id=True)\n",
    "    rows = soup.find_all('tr')\n",
    "    header = [col.get_text() for col in soup.find_all('th', class_=True, limit=9)]\n",
    "\n",
    "    # Initialize with empty/unimportant values\n",
    "    table = [] # df\n",
    "    name = \"ignore\"\n",
    "    for row in rows:\n",
    "        # Start point of a new state\n",
    "        if row.find('th', colspan='10', id=True) != None:\n",
    "            table = []\n",
    "            name = row.contents[1].get('id')\n",
    "            #header = row.find_all_next('th', class_=True, limit=9)\n",
    "\n",
    "        # Read the data of the subtable\n",
    "        cols = row.find_all('td')\n",
    "        cols = [ele.text.strip() for ele in cols]\n",
    "        table.append([ele for ele in cols if ele])\n",
    "\n",
    "        # End point for each state\n",
    "        if row.find('th', colspan='10', class_=\"trenner\") != None: \n",
    "            # Don't use the information outside the states.\n",
    "            if name != \"ignore\" and name != 'hb':\n",
    "                tables[name] = pd.DataFrame(table, columns=header)\n",
    "            # Handle differentely the information from hb = Bremen, which is empty.\n",
    "            elif name == 'hb':\n",
    "                tables[name] = pd.DataFrame(table)\n",
    "    # Add last table, that doesn't have trenner at the end\n",
    "    tables[name] = pd.DataFrame(table, columns=header)\n",
    "\n",
    "    return tables"
   ]
  },
  {
   "cell_type": "code",
   "execution_count": 3,
   "metadata": {
    "collapsed": false
   },
   "outputs": [],
   "source": [
    "states = get_states_tables()"
   ]
  },
  {
   "cell_type": "code",
   "execution_count": null,
   "metadata": {
    "collapsed": true
   },
   "outputs": [],
   "source": []
  }
 ],
 "metadata": {
  "anaconda-cloud": {},
  "kernelspec": {
   "display_name": "Python 3",
   "language": "python",
   "name": "python3"
  },
  "language_info": {
   "codemirror_mode": {
    "name": "ipython",
    "version": 3
   },
   "file_extension": ".py",
   "mimetype": "text/x-python",
   "name": "python",
   "nbconvert_exporter": "python",
   "pygments_lexer": "ipython3",
   "version": "3.6.0"
  }
 },
 "nbformat": 4,
 "nbformat_minor": 1
}
