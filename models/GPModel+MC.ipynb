{
 "cells": [
  {
   "cell_type": "code",
   "execution_count": 2,
   "metadata": {
    "collapsed": false
   },
   "outputs": [],
   "source": [
    "%reset -f\n",
    "import numpy as np\n",
    "import matplotlib.pyplot as plt\n",
    "import seaborn as sns\n",
    "import pandas as pd\n",
    "import datetime as dt\n",
    "import GPflow\n",
    "\n",
    "import sys\n",
    "import os\n",
    "sys.path.append(os.path.abspath('../Backend'))\n",
    "import wahlrecht_polling_firms\n",
    "\n",
    "\n",
    "sns.set(style='white', palette='deep', color_codes=True)\n",
    "\n",
    "%matplotlib inline"
   ]
  },
  {
   "cell_type": "code",
   "execution_count": 3,
   "metadata": {
    "collapsed": true
   },
   "outputs": [],
   "source": [
    "complete_data_dict = wahlrecht_polling_firms.get_tables()"
   ]
  },
  {
   "cell_type": "code",
   "execution_count": 4,
   "metadata": {
    "collapsed": true
   },
   "outputs": [],
   "source": [
    "parties = ['CDU/CSU', 'SPD', 'GRÜNE', 'FDP', 'LINKE', 'AfD', 'Sonstige']"
   ]
  },
  {
   "cell_type": "code",
   "execution_count": 5,
   "metadata": {
    "collapsed": false
   },
   "outputs": [
    {
     "data": {
      "text/html": [
       "<div>\n",
       "<style>\n",
       "    .dataframe thead tr:only-child th {\n",
       "        text-align: right;\n",
       "    }\n",
       "\n",
       "    .dataframe thead th {\n",
       "        text-align: left;\n",
       "    }\n",
       "\n",
       "    .dataframe tbody tr th {\n",
       "        vertical-align: top;\n",
       "    }\n",
       "</style>\n",
       "<table border=\"1\" class=\"dataframe\">\n",
       "  <thead>\n",
       "    <tr style=\"text-align: right;\">\n",
       "      <th></th>\n",
       "      <th>CDU/CSU</th>\n",
       "      <th>SPD</th>\n",
       "      <th>GRÜNE</th>\n",
       "      <th>FDP</th>\n",
       "      <th>LINKE</th>\n",
       "      <th>AfD</th>\n",
       "      <th>Sonstige</th>\n",
       "    </tr>\n",
       "  </thead>\n",
       "  <tbody>\n",
       "    <tr>\n",
       "      <th>0</th>\n",
       "      <td>0</td>\n",
       "      <td>1</td>\n",
       "      <td>2</td>\n",
       "      <td>3</td>\n",
       "      <td>4</td>\n",
       "      <td>5</td>\n",
       "      <td>6</td>\n",
       "    </tr>\n",
       "  </tbody>\n",
       "</table>\n",
       "</div>"
      ],
      "text/plain": [
       "   CDU/CSU  SPD  GRÜNE  FDP  LINKE  AfD  Sonstige\n",
       "0        0    1      2    3      4    5         6"
      ]
     },
     "execution_count": 5,
     "metadata": {},
     "output_type": "execute_result"
    }
   ],
   "source": [
    "def _prediction_to_dataframe(prediction):\n",
    "    \"\"\"Wrap an array with the predictions into a dataframe containing the party names.\"\"\"\n",
    "    return pd.DataFrame(data=[prediction], columns=parties)\n",
    "\n",
    "_prediction_to_dataframe(range(len(parties)))"
   ]
  },
  {
   "cell_type": "code",
   "execution_count": 6,
   "metadata": {
    "collapsed": false
   },
   "outputs": [],
   "source": [
    "class Model():\n",
    "    \n",
    "    def fit(self, data_dict=complete_data_dict):\n",
    "        \"\"\"Optional fit step to call before predictions. Leave empty if the model does not support fitting.\"\"\"\n",
    "        return\n",
    "    \n",
    "    def predict(self, data_dict=complete_data_dict):\n",
    "        raise NotImplementedError()\n",
    "    \n",
    "    def predict_all(self, data_dict=complete_data_dict):\n",
    "        \"\"\"Make a prediction for each time point in the data.\"\"\"\n",
    "        num_timesteps = max([len(df) for df in data_dict.values()])  # take the max from all dataframes\n",
    "        #print('Applying model to {} time points...'.format(num_timesteps))\n",
    "\n",
    "        # First prediction, append the other ones below.\n",
    "        prediction_df = self.predict(data_dict)\n",
    "\n",
    "        for i in range(1, num_timesteps):\n",
    "            sliced_data_dict = {key: df[i:] for key, df in data_dict.items()}\n",
    "            # TODO: Maybe speed up models, especially the decay models. \n",
    "            # Note: Appending the data frames takes up almost no time here, the bottleneck is the model.\n",
    "            # TODO: Due to ill-formated data, the resulting dataframe contains NaNs sometimes.\n",
    "            prediction_df = prediction_df.append(self.predict(sliced_data_dict), ignore_index=True)\n",
    "        \n",
    "        return prediction_df\n",
    "    \n",
    "    def score(self, data_dict=complete_data_dict, polling_firm=None):\n",
    "        \"\"\"Calculate a score for the model (lower is better). The score is the mean squared error between the model's predictions and the true results.\n",
    "        If `polling_firm` is None (default), return a dict with the score for each polling firm. Otherwise, return only the score for that polling firm.\"\"\"\n",
    "        prediction_df = self.predict_all(data_dict)\n",
    "    \n",
    "        if polling_firm is None:\n",
    "            return {polling_firm: mse(poll_df, prediction_df) for polling_firm, poll_df in data_dict.items()}\n",
    "        else: \n",
    "            return mse(data_dict[polling_firm], prediction_df)"
   ]
  },
  {
   "cell_type": "code",
   "execution_count": null,
   "metadata": {
    "collapsed": true
   },
   "outputs": [],
   "source": [
    "\n"
   ]
  },
  {
   "cell_type": "code",
   "execution_count": 7,
   "metadata": {
    "collapsed": false
   },
   "outputs": [
    {
     "name": "stderr",
     "output_type": "stream",
     "text": [
      "/opt/anaconda/lib/python3.6/site-packages/ipykernel/__main__.py:12: FutureWarning: reshape is deprecated and will raise in a subsequent release. Please use .values.reshape(...) instead\n"
     ]
    },
    {
     "data": {
      "text/plain": [
       "0    100.0\n",
       "dtype: float64"
      ]
     },
     "execution_count": 7,
     "metadata": {},
     "output_type": "execute_result"
    }
   ],
   "source": [
    "class GPModel(Model):\n",
    "    \"\"\"Average the last `n_last` polls from all polling firms.\"\"\"\n",
    "    \n",
    "    def __init__(self, k = GPflow.kernels.Matern32(1, variance=1, lengthscales=1.2)):\n",
    "        self.kernel=k\n",
    "        \n",
    "        \n",
    "    def predict(self, data_dict=complete_data_dict):\n",
    "        data = data_dict['emnid']\n",
    "        Y = data[parties]\n",
    "        X = pd.to_datetime(data.Datum)\n",
    "        X=-(X-dt.date.today()).astype('timedelta64[D]').reshape(-1,1)\n",
    "        m = GPflow.gpr.GPR(X, pd.DataFrame.as_matrix(Y), kern=self.kernel)\n",
    "        m.optimize()\n",
    "        \n",
    "        x_pred = np.linspace(X[0,0],X[-1,0], 1000).reshape(-1,1)\n",
    "\n",
    "        mean,var = m.predict_y(x_pred)\n",
    "        prediction = mean [-1] /(mean [-1] .sum(axis=0))*100\n",
    "\n",
    "        return _prediction_to_dataframe(prediction)\n",
    "    \n",
    "    def plot(m):\n",
    "        # TODO : revise plotting function depending on the final data structres\n",
    "        fig,ax = plt.subplots(1,figsize=(12,12))\n",
    "\n",
    "        xx = np.linspace(-0.1, 1.1, 100)[:,None]\n",
    "        mean, var = m.predict_y(x_pred)\n",
    "        #plt.plot(X, Y, 'kx', mew=2)\n",
    "        for y,std,c in zip(mean.T,np.sqrt(var.T),['black','red','purple','green','yellow','blue']):\n",
    "            ax.fill_between(x_pred[:,0],y- 2*std,y+ 2*std,alpha=.1,color=c)\n",
    "            ax.plot(x_pred,y,c=c)\n",
    "\n",
    "        ax.scatter(X[:,0],Y['CDU/CSU'],c='black',alpha=.5,label='CDU')\n",
    "        ax.scatter(X[:,0],Y.SPD,c='red',alpha=.5,label='SPD')\n",
    "        ax.scatter(X[:,0],Y['Linke'],c='purple',alpha=.5,label='Linke')\n",
    "        ax.scatter(X[:,0],Y.Grüne,c='green',alpha=.5,label='Grüne')\n",
    "        ax.scatter(X[:,0],Y.FDP,c='yellow',alpha=.5,label='FDP')\n",
    "        ax.scatter(X[:,0],Y.AfD,c='blue',alpha=.5,label='AfD')\n",
    "        ax.invert_xaxis()\n",
    "        ax.legend();\n",
    "    \n",
    " \n",
    "        \n",
    "        \n",
    "GPModel().predict(complete_data_dict).sum(axis=1)"
   ]
  },
  {
   "cell_type": "code",
   "execution_count": 8,
   "metadata": {
    "collapsed": false
   },
   "outputs": [
    {
     "name": "stderr",
     "output_type": "stream",
     "text": [
      "/opt/anaconda/lib/python3.6/site-packages/ipykernel/__main__.py:12: FutureWarning: reshape is deprecated and will raise in a subsequent release. Please use .values.reshape(...) instead\n"
     ]
    }
   ],
   "source": [
    "covar=(complete_data_dict['allensbach'][parties]).corr()\n",
    "results = GPModel().predict(complete_data_dict)"
   ]
  },
  {
   "cell_type": "code",
   "execution_count": 9,
   "metadata": {
    "collapsed": false
   },
   "outputs": [
    {
     "data": {
      "text/html": [
       "<div>\n",
       "<style>\n",
       "    .dataframe thead tr:only-child th {\n",
       "        text-align: right;\n",
       "    }\n",
       "\n",
       "    .dataframe thead th {\n",
       "        text-align: left;\n",
       "    }\n",
       "\n",
       "    .dataframe tbody tr th {\n",
       "        vertical-align: top;\n",
       "    }\n",
       "</style>\n",
       "<table border=\"1\" class=\"dataframe\">\n",
       "  <thead>\n",
       "    <tr style=\"text-align: right;\">\n",
       "      <th></th>\n",
       "      <th>CDU/CSU</th>\n",
       "      <th>SPD</th>\n",
       "      <th>GRÜNE</th>\n",
       "      <th>FDP</th>\n",
       "      <th>LINKE</th>\n",
       "      <th>AfD</th>\n",
       "      <th>Sonstige</th>\n",
       "    </tr>\n",
       "  </thead>\n",
       "  <tbody>\n",
       "    <tr>\n",
       "      <th>0</th>\n",
       "      <td>41.800335</td>\n",
       "      <td>25.502056</td>\n",
       "      <td>8.962943</td>\n",
       "      <td>3.178276</td>\n",
       "      <td>9.229366</td>\n",
       "      <td>5.296601</td>\n",
       "      <td>6.030422</td>\n",
       "    </tr>\n",
       "  </tbody>\n",
       "</table>\n",
       "</div>"
      ],
      "text/plain": [
       "     CDU/CSU        SPD     GRÜNE       FDP     LINKE       AfD  Sonstige\n",
       "0  41.800335  25.502056  8.962943  3.178276  9.229366  5.296601  6.030422"
      ]
     },
     "execution_count": 9,
     "metadata": {},
     "output_type": "execute_result"
    }
   ],
   "source": [
    "results"
   ]
  },
  {
   "cell_type": "code",
   "execution_count": 29,
   "metadata": {
    "collapsed": false
   },
   "outputs": [],
   "source": [
    "def n_days_predict (results, covar , n=5):\n",
    "\n",
    "    props = np.array(results)\n",
    "    for i in range (1,n):\n",
    "        props+=np.random.multivariate_normal(np.zeros(7) , covar)\n",
    "        props[props<0]=0\n",
    "        props= props/(props.sum()) *100\n",
    "    return props"
   ]
  },
  {
   "cell_type": "code",
   "execution_count": 30,
   "metadata": {
    "collapsed": true
   },
   "outputs": [],
   "source": [
    "def montecarlo(function,n_=10000):\n",
    "    success=np.zeros((len(results)))\n",
    "    outcomes = np.zeros((7,n_))\n",
    "    for i in range(1, n_+1):\n",
    "            \n",
    "        outcomes[:,i-1]= function(results, covar)\n",
    "    \n",
    "    return outcomes"
   ]
  },
  {
   "cell_type": "code",
   "execution_count": 31,
   "metadata": {
    "collapsed": false
   },
   "outputs": [],
   "source": [
    "m = montecarlo( n_days_predict)"
   ]
  },
  {
   "cell_type": "code",
   "execution_count": 32,
   "metadata": {
    "collapsed": false
   },
   "outputs": [
    {
     "data": {
      "text/plain": [
       "(7, 10000)"
      ]
     },
     "execution_count": 32,
     "metadata": {},
     "output_type": "execute_result"
    }
   ],
   "source": [
    "m.shape"
   ]
  },
  {
   "cell_type": "code",
   "execution_count": 33,
   "metadata": {
    "collapsed": false,
    "scrolled": false
   },
   "outputs": [
    {
     "data": {
      "image/png": "[encoded data removed]",
      "text/plain": [
       "<matplotlib.figure.Figure at 0x103139fd0>"
      ]
     },
     "metadata": {},
     "output_type": "display_data"
    },
    {
     "data": {
      "image/png": "[encoded data removed]",
      "text/plain": [
       "<matplotlib.figure.Figure at 0x11b226ac8>"
      ]
     },
     "metadata": {},
     "output_type": "display_data"
    },
    {
     "data": {
      "image/png": "[encoded data removed]",
      "text/plain": [
       "<matplotlib.figure.Figure at 0x11b414e80>"
      ]
     },
     "metadata": {},
     "output_type": "display_data"
    },
    {
     "data": {
      "image/png": "[encoded data removed]",
      "text/plain": [
       "<matplotlib.figure.Figure at 0x11b233a58>"
      ]
     },
     "metadata": {},
     "output_type": "display_data"
    },
    {
     "data": {
      "image/png": "[encoded data removed]",
      "text/plain": [
       "<matplotlib.figure.Figure at 0x11b601710>"
      ]
     },
     "metadata": {},
     "output_type": "display_data"
    },
    {
     "data": {
      "image/png": "[encoded data removed]",
      "text/plain": [
       "<matplotlib.figure.Figure at 0x116b8f668>"
      ]
     },
     "metadata": {},
     "output_type": "display_data"
    },
    {
     "data": {
      "image/png": "[encoded data removed]",
      "text/plain": [
       "<matplotlib.figure.Figure at 0x116a62ef0>"
      ]
     },
     "metadata": {},
     "output_type": "display_data"
    }
   ],
   "source": [
    "for i in m:\n",
    "    plt.hist(i,bins=np.arange(0,100,1), normed=True)\n",
    "    plt.show()"
   ]
  },
  {
   "cell_type": "code",
   "execution_count": null,
   "metadata": {
    "collapsed": true
   },
   "outputs": [],
   "source": []
  }
 ],
 "metadata": {
  "kernelspec": {
   "display_name": "Python 3",
   "language": "python",
   "name": "python3"
  },
  "language_info": {
   "codemirror_mode": {
    "name": "ipython",
    "version": 3
   },
   "file_extension": ".py",
   "mimetype": "text/x-python",
   "name": "python",
   "nbconvert_exporter": "python",
   "pygments_lexer": "ipython3",
   "version": "3.6.0"
  }
 },
 "nbformat": 4,
 "nbformat_minor": 2
}
