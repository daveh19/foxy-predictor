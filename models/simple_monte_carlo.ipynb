{
 "cells": [
  {
   "cell_type": "code",
   "execution_count": 1,
   "metadata": {
    "collapsed": true
   },
   "outputs": [],
   "source": [
    "import numpy as np"
   ]
  },
  {
   "cell_type": "code",
   "execution_count": 2,
   "metadata": {
    "collapsed": true
   },
   "outputs": [],
   "source": [
    "data=np.genfromtxt('modified_forsa.csv',  delimiter=',') #importing the csv file forsa\n",
    "results=data[:,1:7] # only taking into account the values for the 6 parties\n",
    "results=results.T"
   ]
  },
  {
   "cell_type": "code",
   "execution_count": 3,
   "metadata": {
    "collapsed": true
   },
   "outputs": [],
   "source": [
    "# simple montecarlo implementaion, approaching it as calculating the average of a function output over a number of iterations\n",
    "\n",
    "def montecarlo(function):\n",
    "    success=np.zeros((6))\n",
    "    for i in range(1, 100000+1):\n",
    "            \n",
    "        success=np.add(success, function(0))\n",
    "    return success/100000"
   ]
  },
  {
   "cell_type": "code",
   "execution_count": 4,
   "metadata": {
    "collapsed": true
   },
   "outputs": [],
   "source": [
    "covar=np.cov(results)"
   ]
  },
  {
   "cell_type": "code",
   "execution_count": 5,
   "metadata": {
    "collapsed": true
   },
   "outputs": [],
   "source": [
    "#calculating the mean of the polls of each party then using them into np.random.multivariate_normal\n",
    "\n",
    "mean=np.mean(results, axis=1)\n",
    "\n",
    "def random_series(g):\n",
    "    \n",
    "    #np.random.multivariate_normal here creates a dist using a covariance matrix\n",
    "    rand_covar = np.random.multivariate_normal(mean, covar)\n",
    "    \n",
    "    # simply assuming that the final point **can** be calculated using the one before and the covariance matrix\n",
    "    return results[:,1]+results[:,1]*rand_covar\n",
    "\n",
    "mc =montecarlo(random_series)\n"
   ]
  },
  {
   "cell_type": "code",
   "execution_count": 6,
   "metadata": {},
   "outputs": [
    {
     "name": "stdout",
     "output_type": "stream",
     "text": [
      "[ 0.49942452  0.37039334  0.06611402  0.06286749  0.09834688  0.08588364]\n",
      "[ 0.36  0.3   0.07  0.06  0.08  0.09]\n"
     ]
    }
   ],
   "source": [
    "#these should be similar if succeed\n",
    "print(mc)\n",
    "print(results[:,0])"
   ]
  },
  {
   "cell_type": "code",
   "execution_count": null,
   "metadata": {
    "collapsed": true
   },
   "outputs": [],
   "source": []
  }
 ],
 "metadata": {
  "anaconda-cloud": {},
  "kernelspec": {
   "display_name": "Python [conda root]",
   "language": "python",
   "name": "conda-root-py"
  },
  "language_info": {
   "codemirror_mode": {
    "name": "ipython",
    "version": 3
   },
   "file_extension": ".py",
   "mimetype": "text/x-python",
   "name": "python",
   "nbconvert_exporter": "python",
   "pygments_lexer": "ipython3",
   "version": "3.5.2"
  }
 },
 "nbformat": 4,
 "nbformat_minor": 1
}
