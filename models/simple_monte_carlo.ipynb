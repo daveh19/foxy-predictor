{
 "cells": [
  {
   "cell_type": "code",
   "execution_count": 17,
   "metadata": {
    "collapsed": true
   },
   "outputs": [],
   "source": [
    "import numpy as np"
   ]
  },
  {
   "cell_type": "code",
   "execution_count": 35,
   "metadata": {
    "collapsed": true
   },
   "outputs": [],
   "source": [
    "data=np.genfromtxt('modified_forsa.csv',  delimiter=',') #importing the csv file forsa\n",
    "results=data[:,1:8] # only taking into account the values for the 6 parties\n",
    "results=results.T"
   ]
  },
  {
   "cell_type": "code",
   "execution_count": 38,
   "metadata": {
    "collapsed": false
   },
   "outputs": [
    {
     "data": {
      "text/plain": [
       "array([ 0.36,  0.3 ,  0.07,  0.06,  0.08,  0.09,  0.04])"
      ]
     },
     "execution_count": 38,
     "metadata": {},
     "output_type": "execute_result"
    }
   ],
   "source": [
    "results[:,0]"
   ]
  },
  {
   "cell_type": "code",
   "execution_count": 45,
   "metadata": {
    "collapsed": true
   },
   "outputs": [],
   "source": [
    "# simple montecarlo implementaion, approaching it as calculating the average of a function output over a number of iterations\n",
    "\n",
    "def montecarlo(function):\n",
    "    success=np.zeros((len(results[:,0])))\n",
    "    for i in range(1, 10000000+1):\n",
    "            \n",
    "        success=np.add(success, function(0))\n",
    "    return success/10000000"
   ]
  },
  {
   "cell_type": "code",
   "execution_count": 46,
   "metadata": {
    "collapsed": true
   },
   "outputs": [],
   "source": [
    "covar=np.cov(results)"
   ]
  },
  {
   "cell_type": "code",
   "execution_count": null,
   "metadata": {
    "collapsed": false
   },
   "outputs": [],
   "source": [
    "#calculating the mean of the polls of each party then using them into np.random.multivariate_normal\n",
    "\n",
    "mean=np.mean(results, axis=1)\n",
    "\n",
    "def random_series(g):\n",
    "    \n",
    "    #np.random.multivariate_normal here creates a dist using a covariance matrix\n",
    "    rand_covar = np.random.multivariate_normal(mean, covar)\n",
    "    \n",
    "    # simply assuming that the final point **can** be calculated using the one before and the covariance matrix\n",
    "    \n",
    "    not_normalized = results[:,1]+results[:,1]*rand_covar\n",
    "    return not_normalized/sum(not_normalized)\n",
    "\n",
    "mc =montecarlo(random_series)\n"
   ]
  },
  {
   "cell_type": "code",
   "execution_count": null,
   "metadata": {
    "collapsed": false
   },
   "outputs": [],
   "source": [
    "#these should be similar if succeed\n",
    "print(mc)\n",
    "print(results[:,0])"
   ]
  },
  {
   "cell_type": "code",
   "execution_count": null,
   "metadata": {
    "collapsed": false
   },
   "outputs": [],
   "source": [
    "sum(mc)"
   ]
  },
  {
   "cell_type": "code",
   "execution_count": null,
   "metadata": {
    "collapsed": true
   },
   "outputs": [],
   "source": []
  }
 ],
 "metadata": {
  "anaconda-cloud": {},
  "kernelspec": {
   "display_name": "Python 3",
   "language": "python",
   "name": "python3"
  },
  "language_info": {
   "codemirror_mode": {
    "name": "ipython",
    "version": 3
   },
   "file_extension": ".py",
   "mimetype": "text/x-python",
   "name": "python",
   "nbconvert_exporter": "python",
   "pygments_lexer": "ipython3",
   "version": "3.6.0"
  }
 },
 "nbformat": 4,
 "nbformat_minor": 1
}
