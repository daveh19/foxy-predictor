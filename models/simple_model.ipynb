{
 "cells": [
  {
   "cell_type": "code",
   "execution_count": 99,
   "metadata": {
    "collapsed": false
   },
   "outputs": [],
   "source": [
    "import numpy as np\n",
    "import pandas as pd\n",
    "import os\n",
    "\n",
    "datapath = \"/home/newuser/Dokumente/programming_project/Predictor/data\"\n",
    "labels = [\"Datum\", \"CDU\", \"SPD\", \"Gruene\", \"FDP\", \"Linke\", \"AfD\", \"Sonstige\",\"Befragte\", \"Institute\"]\n",
    "institutes = [\"forsa\", \"emnid\", \"allensbach\"]\n",
    "\n",
    "latest_polls = pd.DataFrame(columns = labels)\n",
    "test_latest = open(\"test.csv\", \"w\") \n",
    "\n",
    "for i, lab in enumerate(labels):\n",
    "    test_latest.write(lab)\n",
    "    if i < len(labels): \n",
    "        test_latest.write(',')\n",
    "test_latest.write('\\n')\n",
    "\n",
    "\n",
    "for k, inst in enumerate(institutes): \n",
    "    name = inst + \".csv\"\n",
    "    file = os.path.join(datapath, name)\n",
    "    datafile = pd.read_csv(file, encoding=\"ISO-8859-1\")\n",
    "    for i in range(len(labels)-1):\n",
    "        test_latest.write(str(datafile[labels[i]][0]))\n",
    "        test_latest.write(',')\n",
    "    test_latest.write(inst)\n",
    "    test_latest.write('\\n')\n",
    "test_latest.close()   \n",
    "latest = pd.read_csv('/home/newuser/Dokumente/programming_project/test.csv',  encoding=\"ISO-8859-1\")      "
   ]
  },
  {
   "cell_type": "code",
   "execution_count": 100,
   "metadata": {
    "collapsed": false
   },
   "outputs": [
    {
     "data": {
      "text/plain": [
       "Index(['Datum', 'CDU', 'SPD', 'Gruene', 'FDP', 'Linke', 'AfD', 'Sonstige',\n",
       "       'Befragte', 'Institute', 'Unnamed: 10'],\n",
       "      dtype='object')"
      ]
     },
     "execution_count": 100,
     "metadata": {},
     "output_type": "execute_result"
    }
   ],
   "source": [
    "latest.columns"
   ]
  },
  {
   "cell_type": "code",
   "execution_count": 116,
   "metadata": {
    "collapsed": false
   },
   "outputs": [],
   "source": [
    "def simple_model(dataframe):\n",
    "    output = np.zeros((7,1))\n",
    "    labs =  dataframe.columns\n",
    "    party_lables = labs[1: 7]\n",
    "    weights = dataframe[\"Befragte\"]\n",
    "    total = sum(weights)\n",
    "    for k, pl in enumerate(party_lables): \n",
    "        #output[k] = np.mean(dataframe[pl])\n",
    "        output[k] = sum(dataframe[pl] * weights) / total\n",
    "        \n",
    "    return output , party_lables"
   ]
  },
  {
   "cell_type": "code",
   "execution_count": 117,
   "metadata": {
    "collapsed": false
   },
   "outputs": [],
   "source": [
    "[out, labs]  = simple_model(latest)"
   ]
  },
  {
   "cell_type": "code",
   "execution_count": 119,
   "metadata": {
    "collapsed": false
   },
   "outputs": [
    {
     "name": "stdout",
     "output_type": "stream",
     "text": [
      "[[ 0.36      ]\n",
      " [ 0.29823529]\n",
      " [ 0.07      ]\n",
      " [ 0.06      ]\n",
      " [ 0.08657661]\n",
      " [ 0.0851881 ]\n",
      " [ 0.        ]]\n",
      "Index(['CDU', 'SPD', 'Gruene', 'FDP', 'Linke', 'AfD'], dtype='object')\n"
     ]
    }
   ],
   "source": [
    "print(out)\n",
    "print(labs)"
   ]
  }
 ],
 "metadata": {
  "kernelspec": {
   "display_name": "Python 3",
   "language": "python",
   "name": "python3"
  },
  "language_info": {
   "codemirror_mode": {
    "name": "ipython",
    "version": 3
   },
   "file_extension": ".py",
   "mimetype": "text/x-python",
   "name": "python",
   "nbconvert_exporter": "python",
   "pygments_lexer": "ipython3",
   "version": "3.6.0"
  }
 },
 "nbformat": 4,
 "nbformat_minor": 2
}
