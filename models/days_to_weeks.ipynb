{
 "cells": [
  {
   "cell_type": "code",
   "execution_count": 29,
   "metadata": {
    "collapsed": false
   },
   "outputs": [],
   "source": [
    "import numpy as np\n",
    "import pandas as pd\n",
    "import datetime as dt\n",
    "from pandas import DataFrame\n",
    "data=pd.read_excel('C:/Users/neg/Predictor/models/Multi_dimentional_data_covar/01_Projektion.xlsx',skiprows=7).dropna(axis=1,how='all')\n",
    "\n",
    "data = data[['Datum','CDU/CSU','SPD','Linke','Grüne','FDP','AfD']].dropna()\n",
    "\n",
    "Y = data[['CDU/CSU','SPD','Linke','Grüne','FDP','AfD']]\n",
    "X = pd.to_datetime(data.Datum)\n",
    "df = pd.DataFrame(data)\n",
    "def week(X):\n",
    "    X=-(X-df['Datum'].iget(-1)).astype('timedelta64[D]').reshape(-1,1)\n",
    "    return [np.int_(X/7)]\n",
    "#times=np.arange(len(Y['CDU/CSU']))\n",
    "\n",
    "#X = times.reshape(-1, 1)"
   ]
  },
  {
   "cell_type": "code",
   "execution_count": null,
   "metadata": {
    "collapsed": false
   },
   "outputs": [],
   "source": []
  },
  {
   "cell_type": "code",
   "execution_count": null,
   "metadata": {
    "collapsed": false
   },
   "outputs": [],
   "source": []
  },
  {
   "cell_type": "code",
   "execution_count": null,
   "metadata": {
    "collapsed": true
   },
   "outputs": [],
   "source": []
  }
 ],
 "metadata": {
  "kernelspec": {
   "display_name": "Python [default]",
   "language": "python",
   "name": "python3"
  },
  "language_info": {
   "codemirror_mode": {
    "name": "ipython",
    "version": 3
   },
   "file_extension": ".py",
   "mimetype": "text/x-python",
   "name": "python",
   "nbconvert_exporter": "python",
   "pygments_lexer": "ipython3",
   "version": "3.5.2"
  }
 },
 "nbformat": 4,
 "nbformat_minor": 1
}
