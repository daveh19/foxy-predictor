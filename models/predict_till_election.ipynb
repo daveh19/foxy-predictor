{
 "cells": [
  {
   "cell_type": "code",
   "execution_count": 3,
   "metadata": {},
   "outputs": [],
   "source": [
    "import numpy as np\n",
    "import matplotlib.pyplot as plt\n",
    "import datetime as dt\n",
    "import pandas as pd\n",
    "from scipy.stats.mstats import mquantiles\n",
    "\n",
    "import sys\n",
    "import os\n",
    "sys.path.append(os.path.abspath('../Backend'))\n",
    "\n",
    "import wahlrecht_polling_firms\n",
    "import model_helper\n",
    "%matplotlib inline"
   ]
  },
  {
   "cell_type": "code",
   "execution_count": 4,
   "metadata": {},
   "outputs": [],
   "source": [
    "complete_data_dict = wahlrecht_polling_firms.get_tables()\n",
    "data = complete_data_dict['allensbach']"
   ]
  },
  {
   "cell_type": "code",
   "execution_count": 83,
   "metadata": {},
   "outputs": [],
   "source": [
    "class predict_till_election ():\n",
    "    '''\n",
    "    Each model gives 2 outputs: the traces for the parties, and the quantiles at 5%, 50% and 95%.\n",
    "    \n",
    "    '''\n",
    "    \n",
    "    def __init__ (self, timeline = data, predict_f = 'montecarlo'):\n",
    "        self.timeline = timeline\n",
    "        self.funcs_dict = {'montecarlo': self.montecarlo, 'linear': self.linear}\n",
    "        self.predict_f = self.funcs_dict[predict_f]\n",
    "        self.election_date = pd.to_datetime('24.09.2017') #dt.date.strptime('24.09.2017', '%d.%m.%Y')\n",
    "        self.weeks_left(timeline)\n",
    "        self.parties  = model_helper.parties\n",
    "    \n",
    "    def predict(self):\n",
    "        self.predict_f()\n",
    "        \n",
    "    def weeks_left(self, timeline):\n",
    "        most_recent_poll = self.election_date  - pd.to_datetime (timeline['Datum']) #TODO: make sure it's always \"Datum\"\n",
    "        \n",
    "        self.weeks = int((most_recent_poll).astype('timedelta64[W]')[0])\n",
    "    \n",
    "    def montecarlo(self, iterations = 1000):\n",
    "        print ((iterations,self.weeks,len(self.parties)))\n",
    "        self.traces = np.empty ((iterations,self.weeks,len(self.parties)))\n",
    "        \n",
    "        covar = self.timeline[self.parties].cov()\n",
    "\n",
    "        for i in range(iterations):\n",
    "            self.traces[i] =self.n_days_predict(covar)\n",
    "            if (100*i/iterations) == int ((100*i/iterations)):\n",
    "                print (\"\\r %d\" %(100*i/iterations), end = '')\n",
    "        self.quantiles = [mquantiles(test.traces[:,:,i], prob = (0.05,0.5,0.95), axis= 0) for i in range(len(self.parties))]\n",
    "\n",
    "\n",
    "    def n_days_predict (self, covar):\n",
    "        trace = np.empty((self.weeks,len(self.parties)))\n",
    "        \n",
    "        props = self.timeline[self.parties].iloc[0]\n",
    "        trace [0] = props\n",
    "        \n",
    "        for i in range (1,self.weeks):\n",
    "            props+=np.random.multivariate_normal(np.zeros(len(self.parties)) , covar)\n",
    "            props[props<0]=0\n",
    "            props= props/(props.sum()) *100\n",
    "            trace[i] = props\n",
    "        return trace\n",
    "    \n",
    "    def linear (self):\n",
    "        # TODO : make sure that the self.quantiles is getting 3 point as a prediction for \n",
    "        #the linear model for each party for each time point, it works with .reshape(len(self.parties),1)\n",
    "        self.traces = None\n",
    "        self.quantiles = np.tile(self.timeline.iloc[0][self.parties].reshape(len(self.parties),3,1), (1,self.weeks))\n",
    "        \n",
    "    def quadratic (self)"
   ]
  },
  {
   "cell_type": "code",
   "execution_count": 88,
   "metadata": {},
   "outputs": [],
   "source": [
    "test = predict_till_election(predict_f='montecarlo')"
   ]
  },
  {
   "cell_type": "code",
   "execution_count": 89,
   "metadata": {},
   "outputs": [
    {
     "name": "stdout",
     "output_type": "stream",
     "text": [
      "(1000, 13, 7)\n",
      "\r",
      " 0"
     ]
    },
    {
     "name": "stderr",
     "output_type": "stream",
     "text": [
      "/home/tamer/anaconda3/lib/python3.6/site-packages/ipykernel_launcher.py:43: RuntimeWarning: covariance is not positive-semidefinite.\n"
     ]
    },
    {
     "name": "stdout",
     "output_type": "stream",
     "text": [
      " 99"
     ]
    }
   ],
   "source": [
    "test.predict()"
   ]
  },
  {
   "cell_type": "code",
   "execution_count": null,
   "metadata": {
    "collapsed": true
   },
   "outputs": [],
   "source": []
  }
 ],
 "metadata": {
  "kernelspec": {
   "display_name": "Python 3",
   "language": "python",
   "name": "python3"
  },
  "language_info": {
   "codemirror_mode": {
    "name": "ipython",
    "version": 3
   },
   "file_extension": ".py",
   "mimetype": "text/x-python",
   "name": "python",
   "nbconvert_exporter": "python",
   "pygments_lexer": "ipython3",
   "version": "3.6.1"
  }
 },
 "nbformat": 4,
 "nbformat_minor": 2
}
