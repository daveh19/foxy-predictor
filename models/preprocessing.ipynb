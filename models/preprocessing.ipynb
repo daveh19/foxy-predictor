{
 "cells": [
  {
   "cell_type": "code",
   "execution_count": 113,
   "metadata": {
    "collapsed": false
   },
   "outputs": [],
   "source": [
    "# TODO: Dirty hack to import from sibling dir. Put wahlrecht_polling_firms.py into the same folder as this file eventually.\n",
    "import sys\n",
    "import os\n",
    "sys.path.append(os.path.abspath('../Backend'))\n",
    "from wahlrecht_polling_firms import get_tables\n",
    "from days_to_weeks import week\n",
    "from pandas import DataFrame\n",
    "import numpy as np\n",
    "import pandas as pd\n",
    "import datetime as dt"
   ]
  },
  {
   "cell_type": "code",
   "execution_count": 120,
   "metadata": {
    "collapsed": false
   },
   "outputs": [],
   "source": [
    "#TODO: add the datum for every week\n",
    "def average(data, model, weightvector=None):\n",
    "    '''\n",
    "    averages over the polling data of all firms according to the data available for each week.\n",
    "    \n",
    "    data: polling data and the model that should be used('simple','weightparticipants'or\n",
    "    'weightfirms'(needs a weightdictionary with a weight for every firm))\n",
    "    return: dictionary of parties with the average results for every week\n",
    "    '''\n",
    "    week_ind={}\n",
    "    n_weeks = 0\n",
    "    for key in data:\n",
    "        wk = week(data[key])\n",
    "        week_ind[key]= wk\n",
    "        n_weeks = np.maximum(n_weeks,np.max(wk))\n",
    "    \n",
    "    n_parties=7\n",
    "    result=np.zeros((n_weeks,n_parties))\n",
    "    total_part = np.zeros(n_weeks)\n",
    "    parties=['CDU/CSU','SPD','GRÜNE','FDP','LINKE','AfD','Sonstige']\n",
    "    \n",
    "    \n",
    "    if model == 'simple':\n",
    "        for i in np.arange (n_weeks):\n",
    "            n = 0\n",
    "            for key in data:               \n",
    "                if i in week_ind[key]:                    \n",
    "                    current_ind = np.where(week_ind[key]==i)[0][0]\n",
    "                    total_part[i] += data[key]['Befragte'][current_ind]\n",
    "                    j = 0\n",
    "                    for p in parties:\n",
    "                        result[i,j] += data[key][p][current_ind]\n",
    "                        j += 1\n",
    "                    n += 1\n",
    "            result[i,:] /= n\n",
    "    \n",
    "    if model == 'weightparticipants':\n",
    "        for i in np.arange(n_weeks):\n",
    "            n = 0\n",
    "            for key in data:\n",
    "                if i in week_ind[key]:\n",
    "                    current_ind = np.where(week_ind[key]==i)[0][0]\n",
    "                    total_part[i] += data[key]['Befragte'][current_ind]\n",
    "                    n_part = data[key]['Befragte'][current_ind]\n",
    "                    j = 0\n",
    "                    for p in parties:\n",
    "                        result[i,j] += data[key][p][current_ind]*n_part\n",
    "                        j += 1\n",
    "                    n += n_part  \n",
    "            result[i,:] /= n      \n",
    "            \n",
    "    if model == 'weightfirms':\n",
    "        for i in np.arange(n_weeks):\n",
    "            n = 0\n",
    "            for key in data:\n",
    "                if i in week_ind[key]:\n",
    "                    current_ind = np.where(week_ind[key]==i)[0][0]\n",
    "                    total_part[i] += data[key]['Befragte'][current_ind]\n",
    "                    j = 0\n",
    "                    for p in parties:\n",
    "                        result[i,j] += data[key][p][current_ind]*weightvector[key]\n",
    "                        j += 1\n",
    "                    n += weightvector[key]  \n",
    "            result[i,:] /= n           \n",
    "    \n",
    "    res_dict = {}\n",
    "    j = 0\n",
    "    for p in parties:\n",
    "        res_dict[p] = result[:,j]\n",
    "        j += 1\n",
    "    res = pd.DataFrame.from_dict(res_dict)\n",
    "    today_date = dt.date.today()\n",
    "    next_sunday = today_date + dt.timedelta(6 - today_date.weekday())\n",
    "    sundays = np.array(np.zeros(n_weeks),dtype='datetime64[ms]')\n",
    "    for i in np.arange(n_weeks):\n",
    "        sundays[i] = np.array(next_sunday-dt.timedelta(np.float64(7*i)),dtype='datetime64[ms]')\n",
    "        \n",
    "    res['Befragte'] = total_part\n",
    "    res['Datum'] = sundays\n",
    "    return res\n",
    "\n",
    "    "
   ]
  },
  {
   "cell_type": "code",
   "execution_count": 115,
   "metadata": {
    "collapsed": true
   },
   "outputs": [],
   "source": [
    "#testing\n",
    "data = get_tables()"
   ]
  },
  {
   "cell_type": "code",
   "execution_count": 116,
   "metadata": {
    "collapsed": true
   },
   "outputs": [],
   "source": [
    "w = {'allensbach':0.2, 'emnid':0.1, 'forsa':0.1, 'politbarometer':0.1, 'gms':0.2, 'dimap':0.1, 'insa':0.1}"
   ]
  },
  {
   "cell_type": "code",
   "execution_count": 121,
   "metadata": {
    "collapsed": false
   },
   "outputs": [
    {
     "name": "stderr",
     "output_type": "stream",
     "text": [
      "/home/eric/Predictor/models/days_to_weeks.py:30: FutureWarning: reshape is deprecated and will raise in a subsequent release. Please use .values.reshape(...) instead\n",
      "  X = -(X - next_sunday).astype('timedelta64[D]').reshape(-1,1)\n",
      "/home/eric/anaconda3/lib/python3.6/site-packages/ipykernel/__main__.py:64: RuntimeWarning: invalid value encountered in true_divide\n"
     ]
    },
    {
     "name": "stdout",
     "output_type": "stream",
     "text": [
      "           AfD    CDU/CSU        FDP      GRÜNE      LINKE        SPD  \\\n",
      "0     8.500000  37.000000   9.000000   6.500000  10.000000  26.000000   \n",
      "1     7.333333  38.916667   8.833333   7.416667   9.333333  24.166667   \n",
      "2     8.000000  38.375000   8.500000   7.125000   9.000000  24.125000   \n",
      "3     8.000000  38.500000   8.500000   7.500000   9.000000  24.000000   \n",
      "4     8.000000  38.083333   9.000000   7.166667   8.500000  24.833333   \n",
      "5     7.800000  37.500000   8.900000   7.400000   8.400000  25.600000   \n",
      "6     8.200000  37.600000   8.000000   7.000000   8.200000  26.400000   \n",
      "7     8.750000  36.250000   7.000000   7.500000   8.750000  27.500000   \n",
      "8     8.800000  35.600000   6.800000   7.100000   8.700000  28.500000   \n",
      "9     8.333333  35.833333   6.083333   7.083333   8.916667  30.000000   \n",
      "10    9.250000  35.250000   5.875000   6.250000   8.750000  30.375000   \n",
      "11    9.500000  34.500000   6.125000   7.125000   8.125000  30.875000   \n",
      "12    8.750000  34.500000   5.375000   6.875000   8.500000  31.625000   \n",
      "13    8.000000  33.400000   6.200000   7.100000   8.100000  32.600000   \n",
      "14    9.750000  33.000000   5.916667   7.583333   7.750000  31.666667   \n",
      "15    9.833333  32.333333   6.000000   7.166667   7.833333  31.666667   \n",
      "16    9.400000  32.500000   6.100000   7.300000   7.900000  31.900000   \n",
      "17   10.000000  32.166667   6.666667   7.166667   7.666667  31.666667   \n",
      "18    9.333333  32.416667   6.416667   7.416667   8.083333  31.000000   \n",
      "19   10.000000  32.500000   5.500000   7.500000   8.250000  31.250000   \n",
      "20   10.800000  32.600000   5.800000   8.000000   8.400000  30.400000   \n",
      "21   11.750000  33.625000   6.125000   7.875000   8.875000  27.250000   \n",
      "22   12.214286  35.642857   6.500000   9.071429   9.571429  22.571429   \n",
      "23   12.166667  35.833333   6.500000   8.833333  10.333333  21.000000   \n",
      "24   13.000000  35.500000   6.250000   9.750000   9.750000  20.750000   \n",
      "25   13.333333  36.000000   6.000000   9.833333   9.750000  20.666667   \n",
      "26   12.000000  38.000000   5.000000  10.000000   9.000000  20.000000   \n",
      "27   12.100000  34.900000   6.600000  10.000000   9.900000  21.500000   \n",
      "28   12.250000  35.250000   5.625000  10.625000  10.000000  21.375000   \n",
      "29   12.400000  35.000000   5.200000  10.500000  10.100000  22.100000   \n",
      "..         ...        ...        ...        ...        ...        ...   \n",
      "371        NaN  33.000000   7.000000  16.000000  10.000000  28.000000   \n",
      "372        NaN        NaN        NaN        NaN        NaN        NaN   \n",
      "373        NaN        NaN        NaN        NaN        NaN        NaN   \n",
      "374        NaN        NaN        NaN        NaN        NaN        NaN   \n",
      "375        NaN  35.000000   9.000000  15.000000   9.000000  26.000000   \n",
      "376        NaN        NaN        NaN        NaN        NaN        NaN   \n",
      "377        NaN        NaN        NaN        NaN        NaN        NaN   \n",
      "378        NaN        NaN        NaN        NaN        NaN        NaN   \n",
      "379        NaN  34.000000   9.000000  15.000000  10.000000  26.000000   \n",
      "380        NaN        NaN        NaN        NaN        NaN        NaN   \n",
      "381        NaN        NaN        NaN        NaN        NaN        NaN   \n",
      "382        NaN  35.000000  10.000000  15.000000   9.000000  25.000000   \n",
      "383        NaN        NaN        NaN        NaN        NaN        NaN   \n",
      "384        NaN        NaN        NaN        NaN        NaN        NaN   \n",
      "385        NaN        NaN        NaN        NaN        NaN        NaN   \n",
      "386        NaN        NaN        NaN        NaN        NaN        NaN   \n",
      "387        NaN        NaN        NaN        NaN        NaN        NaN   \n",
      "388        NaN  35.000000  11.000000  14.000000  11.000000  24.000000   \n",
      "389        NaN        NaN        NaN        NaN        NaN        NaN   \n",
      "390        NaN        NaN        NaN        NaN        NaN        NaN   \n",
      "391        NaN        NaN        NaN        NaN        NaN        NaN   \n",
      "392        NaN        NaN        NaN        NaN        NaN        NaN   \n",
      "393        NaN  35.000000  12.000000  13.000000  11.000000  24.000000   \n",
      "394        NaN        NaN        NaN        NaN        NaN        NaN   \n",
      "395        NaN        NaN        NaN        NaN        NaN        NaN   \n",
      "396        NaN        NaN        NaN        NaN        NaN        NaN   \n",
      "397        NaN  35.000000  13.000000  12.000000  13.000000  21.000000   \n",
      "398        NaN        NaN        NaN        NaN        NaN        NaN   \n",
      "399        NaN        NaN        NaN        NaN        NaN        NaN   \n",
      "400        NaN        NaN        NaN        NaN        NaN        NaN   \n",
      "\n",
      "     Sonstige  Befragte      Datum  \n",
      "0    3.000000    2056.0 2017-07-02  \n",
      "1    4.000000    8606.0 2017-06-25  \n",
      "2    4.875000    7127.0 2017-06-18  \n",
      "3    4.500000    7439.0 2017-06-11  \n",
      "4    4.416667    8209.0 2017-06-04  \n",
      "5    4.400000    7704.0 2017-05-28  \n",
      "6    4.600000    9317.0 2017-05-21  \n",
      "7    4.250000    7408.0 2017-05-14  \n",
      "8    4.500000    7476.0 2017-05-07  \n",
      "9    3.750000    9217.0 2017-04-30  \n",
      "10   4.250000    6391.0 2017-04-23  \n",
      "11   3.750000    8470.0 2017-04-16  \n",
      "12   4.375000    7879.0 2017-04-09  \n",
      "13   4.600000    8348.0 2017-04-02  \n",
      "14   4.333333    8918.0 2017-03-26  \n",
      "15   5.166667    6388.0 2017-03-19  \n",
      "16   4.900000    9120.0 2017-03-12  \n",
      "17   4.666667    5907.0 2017-03-05  \n",
      "18   5.333333    9001.0 2017-02-26  \n",
      "19   5.000000    7646.0 2017-02-19  \n",
      "20   4.000000    7518.0 2017-02-12  \n",
      "21   4.500000    8329.0 2017-02-05  \n",
      "22   4.428571   10265.0 2017-01-29  \n",
      "23   5.333333    7339.0 2017-01-22  \n",
      "24   5.000000    7725.0 2017-01-15  \n",
      "25   4.416667    7445.0 2017-01-08  \n",
      "26   6.000000    2504.0 2017-01-01  \n",
      "27   5.000000    8370.0 2016-12-25  \n",
      "28   4.875000    7377.0 2016-12-18  \n",
      "29   4.700000    9745.0 2016-12-11  \n",
      "..        ...       ...        ...  \n",
      "371  6.000000    1003.0 2010-05-23  \n",
      "372       NaN       0.0 2010-05-16  \n",
      "373       NaN       0.0 2010-05-09  \n",
      "374       NaN       0.0 2010-05-02  \n",
      "375  6.000000    1006.0 2010-04-25  \n",
      "376       NaN       0.0 2010-04-18  \n",
      "377       NaN       0.0 2010-04-11  \n",
      "378       NaN       0.0 2010-04-04  \n",
      "379  6.000000    1005.0 2010-03-28  \n",
      "380       NaN       0.0 2010-03-21  \n",
      "381       NaN       0.0 2010-03-14  \n",
      "382  6.000000    1004.0 2010-03-07  \n",
      "383       NaN       0.0 2010-02-28  \n",
      "384       NaN       0.0 2010-02-21  \n",
      "385       NaN       0.0 2010-02-14  \n",
      "386       NaN       0.0 2010-02-07  \n",
      "387       NaN       0.0 2010-01-31  \n",
      "388  5.000000    1001.0 2010-01-24  \n",
      "389       NaN       0.0 2010-01-17  \n",
      "390       NaN       0.0 2010-01-10  \n",
      "391       NaN       0.0 2010-01-03  \n",
      "392       NaN       0.0 2009-12-27  \n",
      "393  5.000000    1002.0 2009-12-20  \n",
      "394       NaN       0.0 2009-12-13  \n",
      "395       NaN       0.0 2009-12-06  \n",
      "396       NaN       0.0 2009-11-29  \n",
      "397  6.000000    1001.0 2009-11-22  \n",
      "398       NaN       0.0 2009-11-15  \n",
      "399       NaN       0.0 2009-11-08  \n",
      "400       NaN       0.0 2009-11-01  \n",
      "\n",
      "[401 rows x 9 columns]\n"
     ]
    }
   ],
   "source": [
    "res = average(data,'weightfirms',w)\n",
    "print(res)"
   ]
  },
  {
   "cell_type": "code",
   "execution_count": null,
   "metadata": {
    "collapsed": false
   },
   "outputs": [],
   "source": []
  },
  {
   "cell_type": "code",
   "execution_count": null,
   "metadata": {
    "collapsed": false
   },
   "outputs": [],
   "source": []
  },
  {
   "cell_type": "code",
   "execution_count": null,
   "metadata": {
    "collapsed": false
   },
   "outputs": [],
   "source": []
  },
  {
   "cell_type": "code",
   "execution_count": null,
   "metadata": {
    "collapsed": false
   },
   "outputs": [],
   "source": []
  },
  {
   "cell_type": "code",
   "execution_count": null,
   "metadata": {
    "collapsed": false
   },
   "outputs": [],
   "source": []
  },
  {
   "cell_type": "code",
   "execution_count": null,
   "metadata": {
    "collapsed": false
   },
   "outputs": [],
   "source": []
  },
  {
   "cell_type": "code",
   "execution_count": null,
   "metadata": {
    "collapsed": false
   },
   "outputs": [],
   "source": []
  },
  {
   "cell_type": "code",
   "execution_count": null,
   "metadata": {
    "collapsed": false
   },
   "outputs": [],
   "source": []
  },
  {
   "cell_type": "code",
   "execution_count": null,
   "metadata": {
    "collapsed": false
   },
   "outputs": [],
   "source": []
  },
  {
   "cell_type": "code",
   "execution_count": null,
   "metadata": {
    "collapsed": true
   },
   "outputs": [],
   "source": []
  }
 ],
 "metadata": {
  "anaconda-cloud": {},
  "kernelspec": {
   "display_name": "Python 3",
   "language": "python",
   "name": "python3"
  },
  "language_info": {
   "codemirror_mode": {
    "name": "ipython",
    "version": 3
   },
   "file_extension": ".py",
   "mimetype": "text/x-python",
   "name": "python",
   "nbconvert_exporter": "python",
   "pygments_lexer": "ipython3",
   "version": "3.6.0"
  }
 },
 "nbformat": 4,
 "nbformat_minor": 1
}
