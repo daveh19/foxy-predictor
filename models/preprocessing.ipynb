{
 "cells": [
  {
   "cell_type": "code",
   "execution_count": 71,
   "metadata": {
    "collapsed": false
   },
   "outputs": [],
   "source": [
    "# TODO: Dirty hack to import from sibling dir. Put wahlrecht_polling_firms.py into the same folder as this file eventually.\n",
    "import sys\n",
    "import os\n",
    "sys.path.append(os.path.abspath('../Backend'))\n",
    "from wahlrecht_polling_firms import get_tables\n",
    "from days_to_weeks import week\n",
    "from pandas import DataFrame\n",
    "import numpy as np\n",
    "import pandas as pd\n",
    "import datetime as dt"
   ]
  },
  {
   "cell_type": "code",
   "execution_count": 108,
   "metadata": {
    "collapsed": false
   },
   "outputs": [],
   "source": [
    "#TO DO : Fix the code. wtap it in a function, allow for different options of averaging\n",
    "def average(data, model):\n",
    "    '''\n",
    "    averages over the polling data of all firms according to the data available for each week.\n",
    "    \n",
    "    data: polling data and the model that should be used('simple','weightparticipants')\n",
    "    return: dictionary of parties with the average results for every week\n",
    "    '''\n",
    "    week_ind={}\n",
    "    n_weeks = 0\n",
    "    for key in data:\n",
    "        wk = week(data[key])\n",
    "        week_ind[key]= wk\n",
    "        n_weeks = np.maximum(n_weeks,np.max(wk))\n",
    "    \n",
    "    n_parties=7\n",
    "    result=np.zeros((n_weeks,n_parties))\n",
    "    parties=['CDU/CSU','SPD','GRÜNE','FDP','LINKE','AfD','Sonstige']\n",
    "    \n",
    "    \n",
    "    if model == 'simple':\n",
    "        for i in np.arange (n_weeks):\n",
    "            n = 0\n",
    "            for key in data:\n",
    "                if i in week_ind[key]:\n",
    "                    current_ind = np.where(week_ind[key]==i)[0][0]\n",
    "                    j = 0\n",
    "                    for p in parties:\n",
    "                        result[i,j] += data[key][p][current_ind]\n",
    "                        j += 1\n",
    "                    n += 1\n",
    "            result[i,:] /= n\n",
    "    \n",
    "    if model == 'weightparticipants':\n",
    "        for i in np.arange(n_weeks):\n",
    "            n = 0\n",
    "            for key in data:\n",
    "                if i in week_ind[key]:\n",
    "                    current_ind = np.where(week_ind[key]==i)[0][0] \n",
    "                    n_part = data[key]['Befragte'][current_ind]\n",
    "                    j = 0\n",
    "                    for p in parties:\n",
    "                        result[i,j] += data[key][p][current_ind]*n_part\n",
    "                        j += 1\n",
    "                    n += n_part  \n",
    "            result[i,:] /= n        \n",
    "    \n",
    "    res_dict = {}\n",
    "    j = 0\n",
    "    for p in parties:\n",
    "        res_dict[p] = result[:,j]\n",
    "        j += 1\n",
    "    return res_dict\n",
    "\n",
    "    "
   ]
  },
  {
   "cell_type": "code",
   "execution_count": 111,
   "metadata": {
    "collapsed": true
   },
   "outputs": [],
   "source": [
    "data = get_tables()"
   ]
  },
  {
   "cell_type": "code",
   "execution_count": 112,
   "metadata": {
    "collapsed": false
   },
   "outputs": [
    {
     "name": "stderr",
     "output_type": "stream",
     "text": [
      "/home/eric/Predictor/models/days_to_weeks.py:26: FutureWarning: iget(i) is deprecated. Please use .iloc[i] or .iat[i]\n",
      "  X=-(X-df['Datum'].iget(0)).astype('timedelta64[D]').reshape(-1,1)\n",
      "/home/eric/Predictor/models/days_to_weeks.py:26: FutureWarning: reshape is deprecated and will raise in a subsequent release. Please use .values.reshape(...) instead\n",
      "  X=-(X-df['Datum'].iget(0)).astype('timedelta64[D]').reshape(-1,1)\n",
      "/home/eric/anaconda3/lib/python3.6/site-packages/ipykernel/__main__.py:46: RuntimeWarning: invalid value encountered in true_divide\n"
     ]
    }
   ],
   "source": [
    "res = average(data,'weightparticipants')\n",
    "print(res)"
   ]
  },
  {
   "cell_type": "code",
   "execution_count": null,
   "metadata": {
    "collapsed": false
   },
   "outputs": [],
   "source": []
  },
  {
   "cell_type": "code",
   "execution_count": null,
   "metadata": {
    "collapsed": false
   },
   "outputs": [],
   "source": []
  },
  {
   "cell_type": "code",
   "execution_count": null,
   "metadata": {
    "collapsed": false
   },
   "outputs": [],
   "source": []
  },
  {
   "cell_type": "code",
   "execution_count": null,
   "metadata": {
    "collapsed": false
   },
   "outputs": [],
   "source": []
  },
  {
   "cell_type": "code",
   "execution_count": null,
   "metadata": {
    "collapsed": false
   },
   "outputs": [],
   "source": []
  },
  {
   "cell_type": "code",
   "execution_count": null,
   "metadata": {
    "collapsed": false
   },
   "outputs": [],
   "source": []
  },
  {
   "cell_type": "code",
   "execution_count": null,
   "metadata": {
    "collapsed": true
   },
   "outputs": [],
   "source": []
  }
 ],
 "metadata": {
  "anaconda-cloud": {},
  "kernelspec": {
   "display_name": "Python 3",
   "language": "python",
   "name": "python3"
  },
  "language_info": {
   "codemirror_mode": {
    "name": "ipython",
    "version": 3
   },
   "file_extension": ".py",
   "mimetype": "text/x-python",
   "name": "python",
   "nbconvert_exporter": "python",
   "pygments_lexer": "ipython3",
   "version": "3.6.0"
  }
 },
 "nbformat": 4,
 "nbformat_minor": 1
}
