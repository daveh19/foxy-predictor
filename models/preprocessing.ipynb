{
 "cells": [
  {
   "cell_type": "code",
   "execution_count": 1,
   "metadata": {
    "collapsed": false
   },
   "outputs": [],
   "source": [
    "import sys\n",
    "import os\n",
    "sys.path.append(os.path.abspath('../Backend'))\n",
    "from wahlrecht_polling_firms import get_tables\n",
    "from days_to_weeks import week\n",
    "from pandas import DataFrame\n",
    "import numpy as np\n",
    "import pandas as pd\n",
    "import datetime as dt"
   ]
  },
  {
   "cell_type": "code",
   "execution_count": 42,
   "metadata": {
    "collapsed": false
   },
   "outputs": [],
   "source": [
    "def average(data, model, weightvector=None):\n",
    "    '''\n",
    "    averages over the polling data of all firms according to the data available for each week.\n",
    "    \n",
    "    data: polling data and the model that should be used('simple','weightparticipants'or\n",
    "    'weightfirms'(needs a weightdictionary with a weight for every firm))\n",
    "    return: dictionary of parties with the average results for every week\n",
    "    '''\n",
    "    week_ind={}\n",
    "    n_weeks = 0\n",
    "    for key in data:\n",
    "        wk = week(data[key])\n",
    "        week_ind[key]= wk\n",
    "        n_weeks = np.maximum(n_weeks,np.max(wk))\n",
    "    \n",
    "    n_parties=7\n",
    "    result=np.zeros((n_weeks,n_parties))\n",
    "    total_part = np.zeros(n_weeks)\n",
    "    parties=['CDU/CSU','SPD','GRÜNE','FDP','LINKE','AfD','Sonstige']\n",
    "    \n",
    "    \n",
    "    if model == 'simple':\n",
    "        for i in np.arange (n_weeks):\n",
    "            n = 0\n",
    "            for key in data:               \n",
    "                if i in week_ind[key]:                    \n",
    "                    current_ind = np.where(week_ind[key]==i)[0][0]\n",
    "                    total_part[i] += data[key]['Befragte'][current_ind]\n",
    "                    j = 0\n",
    "                    for p in parties:\n",
    "                        result[i,j] += data[key][p][current_ind]\n",
    "                        j += 1\n",
    "                    n += 1\n",
    "            result[i,:] /= n\n",
    "    \n",
    "    if model == 'weightparticipants':\n",
    "        for i in np.arange(n_weeks):\n",
    "            n = 0\n",
    "            for key in data:\n",
    "                if i in week_ind[key]:\n",
    "                    current_ind = np.where(week_ind[key]==i)[0][0]\n",
    "                    total_part[i] += data[key]['Befragte'][current_ind]\n",
    "                    n_part = data[key]['Befragte'][current_ind]\n",
    "                    j = 0\n",
    "                    for p in parties:\n",
    "                        result[i,j] += data[key][p][current_ind]*n_part\n",
    "                        j += 1\n",
    "                    n += n_part  \n",
    "            result[i,:] /= n      \n",
    "            \n",
    "    if model == 'weightfirms':\n",
    "        for i in np.arange(n_weeks):\n",
    "            n = 0\n",
    "            for key in data:\n",
    "                if i in week_ind[key]:\n",
    "                    current_ind = np.where(week_ind[key]==i)[0][0]\n",
    "                    total_part[i] += data[key]['Befragte'][current_ind]\n",
    "                    j = 0\n",
    "                    for p in parties:\n",
    "                        result[i,j] += data[key][p][current_ind]*weightvector[key]\n",
    "                        j += 1\n",
    "                    n += weightvector[key]  \n",
    "            result[i,:] /= n           \n",
    "    \n",
    "    res_dict = {}\n",
    "    j = 0\n",
    "    for p in parties:\n",
    "        res_dict[p] = result[:,j]\n",
    "        j += 1\n",
    "    res = pd.DataFrame.from_dict(res_dict)\n",
    "    today_date = dt.date.today()\n",
    "    next_sunday = today_date + dt.timedelta(6 - today_date.weekday())\n",
    "    sundays = np.array(np.zeros(n_weeks),dtype='datetime64[ms]')\n",
    "    for i in np.arange(n_weeks):\n",
    "        sundays[i] = np.array(next_sunday-dt.timedelta(np.float64(7*i)),dtype='datetime64[ms]')   \n",
    "    res['Befragte'] = total_part\n",
    "    res['Datum'] = sundays\n",
    "    df = res.drop(0,axis=0)\n",
    "    df.index = df.index-1\n",
    "    return df\n",
    "\n",
    "    "
   ]
  },
  {
   "cell_type": "code",
   "execution_count": null,
   "metadata": {
    "collapsed": false
   },
   "outputs": [],
   "source": []
  },
  {
   "cell_type": "code",
   "execution_count": 44,
   "metadata": {
    "collapsed": false
   },
   "outputs": [],
   "source": [
    "#testing\n",
    "data=get_tables()"
   ]
  },
  {
   "cell_type": "code",
   "execution_count": 39,
   "metadata": {
    "collapsed": true
   },
   "outputs": [],
   "source": [
    "w = {'allensbach':0.2, 'emnid':0.1, 'forsa':0.1, 'politbarometer':0.1, 'gms':0.2, 'dimap':0.1, 'insa':0.1}"
   ]
  },
  {
   "cell_type": "code",
   "execution_count": 43,
   "metadata": {
    "collapsed": false
   },
   "outputs": [
    {
     "name": "stdout",
     "output_type": "stream",
     "text": [
      "      AfD  CDU/CSU  FDP  GRÜNE  LINKE  SPD  Sonstige  Befragte      Datum\n",
      "0     NaN      NaN  NaN    NaN    NaN  NaN       NaN       0.0 2017-07-09\n",
      "1     NaN      NaN  NaN    NaN    NaN  NaN       NaN       0.0 2017-07-02\n",
      "2     NaN      NaN  NaN    NaN    NaN  NaN       NaN       0.0 2017-06-25\n",
      "3     NaN      NaN  NaN    NaN    NaN  NaN       NaN       0.0 2017-06-18\n",
      "4     NaN      NaN  NaN    NaN    NaN  NaN       NaN       0.0 2017-06-11\n",
      "5     NaN      NaN  NaN    NaN    NaN  NaN       NaN       0.0 2017-06-04\n",
      "6     NaN      NaN  NaN    NaN    NaN  NaN       NaN       0.0 2017-05-28\n",
      "7     NaN      NaN  NaN    NaN    NaN  NaN       NaN       0.0 2017-05-21\n",
      "8     NaN      NaN  NaN    NaN    NaN  NaN       NaN       0.0 2017-05-14\n",
      "9     NaN      NaN  NaN    NaN    NaN  NaN       NaN       0.0 2017-05-07\n",
      "10    NaN      NaN  NaN    NaN    NaN  NaN       NaN       0.0 2017-04-30\n",
      "11    NaN      NaN  NaN    NaN    NaN  NaN       NaN       0.0 2017-04-23\n",
      "12    NaN      NaN  NaN    NaN    NaN  NaN       NaN       0.0 2017-04-16\n",
      "13    NaN      NaN  NaN    NaN    NaN  NaN       NaN       0.0 2017-04-09\n",
      "14    NaN      NaN  NaN    NaN    NaN  NaN       NaN       0.0 2017-04-02\n",
      "15    NaN      NaN  NaN    NaN    NaN  NaN       NaN       0.0 2017-03-26\n",
      "16    NaN      NaN  NaN    NaN    NaN  NaN       NaN       0.0 2017-03-19\n",
      "17    NaN      NaN  NaN    NaN    NaN  NaN       NaN       0.0 2017-03-12\n",
      "18    NaN      NaN  NaN    NaN    NaN  NaN       NaN       0.0 2017-03-05\n",
      "19    NaN      NaN  NaN    NaN    NaN  NaN       NaN       0.0 2017-02-26\n",
      "20    NaN      NaN  NaN    NaN    NaN  NaN       NaN       0.0 2017-02-19\n",
      "21    NaN      NaN  NaN    NaN    NaN  NaN       NaN       0.0 2017-02-12\n",
      "22    NaN      NaN  NaN    NaN    NaN  NaN       NaN       0.0 2017-02-05\n",
      "23    NaN      NaN  NaN    NaN    NaN  NaN       NaN       0.0 2017-01-29\n",
      "24    NaN      NaN  NaN    NaN    NaN  NaN       NaN       0.0 2017-01-22\n",
      "25    NaN      NaN  NaN    NaN    NaN  NaN       NaN       0.0 2017-01-15\n",
      "26    NaN      NaN  NaN    NaN    NaN  NaN       NaN       0.0 2017-01-08\n",
      "27    NaN      NaN  NaN    NaN    NaN  NaN       NaN       0.0 2017-01-01\n",
      "28    NaN      NaN  NaN    NaN    NaN  NaN       NaN       0.0 2016-12-25\n",
      "29    NaN      NaN  NaN    NaN    NaN  NaN       NaN       0.0 2016-12-18\n",
      "...   ...      ...  ...    ...    ...  ...       ...       ...        ...\n",
      "2449  NaN      NaN  NaN    NaN    NaN  NaN       NaN       0.0 1970-08-02\n",
      "2450  NaN      NaN  NaN    NaN    NaN  NaN       NaN       0.0 1970-07-26\n",
      "2451  NaN      NaN  NaN    NaN    NaN  NaN       NaN       0.0 1970-07-19\n",
      "2452  NaN      NaN  NaN    NaN    NaN  NaN       NaN       0.0 1970-07-12\n",
      "2453  NaN      NaN  NaN    NaN    NaN  NaN       NaN       0.0 1970-07-05\n",
      "2454  NaN      NaN  NaN    NaN    NaN  NaN       NaN       0.0 1970-06-28\n",
      "2455  NaN      NaN  NaN    NaN    NaN  NaN       NaN       0.0 1970-06-21\n",
      "2456  NaN      NaN  NaN    NaN    NaN  NaN       NaN       0.0 1970-06-14\n",
      "2457  NaN      NaN  NaN    NaN    NaN  NaN       NaN       0.0 1970-06-07\n",
      "2458  NaN      NaN  NaN    NaN    NaN  NaN       NaN       0.0 1970-05-31\n",
      "2459  NaN      NaN  NaN    NaN    NaN  NaN       NaN       0.0 1970-05-24\n",
      "2460  NaN      NaN  NaN    NaN    NaN  NaN       NaN       0.0 1970-05-17\n",
      "2461  NaN      NaN  NaN    NaN    NaN  NaN       NaN       0.0 1970-05-10\n",
      "2462  NaN      NaN  NaN    NaN    NaN  NaN       NaN       0.0 1970-05-03\n",
      "2463  NaN      NaN  NaN    NaN    NaN  NaN       NaN       0.0 1970-04-26\n",
      "2464  NaN      NaN  NaN    NaN    NaN  NaN       NaN       0.0 1970-04-19\n",
      "2465  NaN      NaN  NaN    NaN    NaN  NaN       NaN       0.0 1970-04-12\n",
      "2466  NaN      NaN  NaN    NaN    NaN  NaN       NaN       0.0 1970-04-05\n",
      "2467  NaN      NaN  NaN    NaN    NaN  NaN       NaN       0.0 1970-03-29\n",
      "2468  NaN      NaN  NaN    NaN    NaN  NaN       NaN       0.0 1970-03-22\n",
      "2469  NaN      NaN  NaN    NaN    NaN  NaN       NaN       0.0 1970-03-15\n",
      "2470  NaN      NaN  NaN    NaN    NaN  NaN       NaN       0.0 1970-03-08\n",
      "2471  NaN      NaN  NaN    NaN    NaN  NaN       NaN       0.0 1970-03-01\n",
      "2472  NaN      NaN  NaN    NaN    NaN  NaN       NaN       0.0 1970-02-22\n",
      "2473  NaN      NaN  NaN    NaN    NaN  NaN       NaN       0.0 1970-02-15\n",
      "2474  NaN      NaN  NaN    NaN    NaN  NaN       NaN       0.0 1970-02-08\n",
      "2475  NaN      NaN  NaN    NaN    NaN  NaN       NaN       0.0 1970-02-01\n",
      "2476  NaN      NaN  NaN    NaN    NaN  NaN       NaN       0.0 1970-01-25\n",
      "2477  NaN      NaN  NaN    NaN    NaN  NaN       NaN       0.0 1970-01-18\n",
      "2478  NaN      NaN  NaN    NaN    NaN  NaN       NaN       0.0 1970-01-11\n",
      "\n",
      "[2479 rows x 9 columns]\n"
     ]
    }
   ],
   "source": [
    "res = average(data,'weightfirms',w)\n",
    "print(res)"
   ]
  },
  {
   "cell_type": "code",
   "execution_count": null,
   "metadata": {
    "collapsed": false
   },
   "outputs": [],
   "source": []
  },
  {
   "cell_type": "code",
   "execution_count": null,
   "metadata": {
    "collapsed": false
   },
   "outputs": [],
   "source": []
  },
  {
   "cell_type": "code",
   "execution_count": null,
   "metadata": {
    "collapsed": false
   },
   "outputs": [],
   "source": []
  },
  {
   "cell_type": "code",
   "execution_count": null,
   "metadata": {
    "collapsed": false
   },
   "outputs": [],
   "source": []
  },
  {
   "cell_type": "code",
   "execution_count": null,
   "metadata": {
    "collapsed": false
   },
   "outputs": [],
   "source": []
  },
  {
   "cell_type": "code",
   "execution_count": null,
   "metadata": {
    "collapsed": false
   },
   "outputs": [],
   "source": []
  },
  {
   "cell_type": "code",
   "execution_count": null,
   "metadata": {
    "collapsed": false
   },
   "outputs": [],
   "source": []
  },
  {
   "cell_type": "code",
   "execution_count": null,
   "metadata": {
    "collapsed": false
   },
   "outputs": [],
   "source": []
  },
  {
   "cell_type": "code",
   "execution_count": null,
   "metadata": {
    "collapsed": false
   },
   "outputs": [],
   "source": []
  },
  {
   "cell_type": "code",
   "execution_count": null,
   "metadata": {
    "collapsed": true
   },
   "outputs": [],
   "source": []
  }
 ],
 "metadata": {
  "anaconda-cloud": {},
  "kernelspec": {
   "display_name": "Python [default]",
   "language": "python",
   "name": "python3"
  },
  "language_info": {
   "codemirror_mode": {
    "name": "ipython",
    "version": 3
   },
   "file_extension": ".py",
   "mimetype": "text/x-python",
   "name": "python",
   "nbconvert_exporter": "python",
   "pygments_lexer": "ipython3",
   "version": "3.5.2"
  }
 },
 "nbformat": 4,
 "nbformat_minor": 1
}
