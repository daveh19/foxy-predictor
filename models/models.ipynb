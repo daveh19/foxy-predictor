{
 "cells": [
  {
   "cell_type": "code",
   "execution_count": 1,
   "metadata": {
    "collapsed": false
   },
   "outputs": [],
   "source": [
    "# TODO: Dirty hack to import from sibling dir. Put wahlrecht_polling_firms.py into the same folder as this file eventually.\n",
    "import sys\n",
    "import os\n",
    "sys.path.append(os.path.abspath('../Backend'))\n",
    "import wahlrecht_polling_firms\n",
    "\n",
    "import numpy as np\n",
    "import pandas as pd\n",
    "\n",
    "data_dict = wahlrecht_polling_firms.get_tables()"
   ]
  },
  {
   "cell_type": "code",
   "execution_count": 2,
   "metadata": {
    "collapsed": true
   },
   "outputs": [],
   "source": [
    "parties = ['CDU/CSU', 'SPD', 'GRÜNE', 'FDP', 'LINKE', 'AfD', 'Sonstige']"
   ]
  },
  {
   "cell_type": "code",
   "execution_count": 3,
   "metadata": {
    "collapsed": false
   },
   "outputs": [
    {
     "data": {
      "text/plain": [
       "1.0"
      ]
     },
     "execution_count": 3,
     "metadata": {},
     "output_type": "execute_result"
    }
   ],
   "source": [
    "def _normalize_to_one(x):\n",
    "    \"\"\"Normalize an array so that its sum is 1.\"\"\"\n",
    "    return x / np.sum(x)\n",
    "\n",
    "np.sum(_normalize_to_one(np.linspace(0, 10)))"
   ]
  },
  {
   "cell_type": "code",
   "execution_count": 4,
   "metadata": {
    "collapsed": true
   },
   "outputs": [],
   "source": [
    "def _p2f(x):\n",
    "    \"\"\"Convert string with percent to float.\"\"\"\n",
    "    return float(x.strip('%').replace(',', '.')) / 100"
   ]
  },
  {
   "cell_type": "code",
   "execution_count": 5,
   "metadata": {
    "collapsed": false
   },
   "outputs": [
    {
     "data": {
      "text/html": [
       "<div>\n",
       "<table border=\"1\" class=\"dataframe\">\n",
       "  <thead>\n",
       "    <tr style=\"text-align: right;\">\n",
       "      <th></th>\n",
       "      <th>CDU/CSU</th>\n",
       "      <th>SPD</th>\n",
       "      <th>GRÜNE</th>\n",
       "      <th>FDP</th>\n",
       "      <th>LINKE</th>\n",
       "      <th>AfD</th>\n",
       "      <th>Sonstige</th>\n",
       "    </tr>\n",
       "  </thead>\n",
       "  <tbody>\n",
       "    <tr>\n",
       "      <th>0</th>\n",
       "      <td>0</td>\n",
       "      <td>1</td>\n",
       "      <td>2</td>\n",
       "      <td>3</td>\n",
       "      <td>4</td>\n",
       "      <td>5</td>\n",
       "      <td>6</td>\n",
       "    </tr>\n",
       "  </tbody>\n",
       "</table>\n",
       "</div>"
      ],
      "text/plain": [
       "   CDU/CSU  SPD  GRÜNE  FDP  LINKE  AfD  Sonstige\n",
       "0        0    1      2    3      4    5         6"
      ]
     },
     "execution_count": 5,
     "metadata": {},
     "output_type": "execute_result"
    }
   ],
   "source": [
    "def _prediction_to_dataframe(prediction):\n",
    "    \"\"\"Wrap an array with the predictions into a dataframe containing the party names.\"\"\"\n",
    "    return pd.DataFrame(data=[prediction], columns=parties)\n",
    "\n",
    "_prediction_to_dataframe(range(len(parties)))"
   ]
  },
  {
   "cell_type": "code",
   "execution_count": 6,
   "metadata": {
    "collapsed": true
   },
   "outputs": [],
   "source": [
    "# TODO: Default parameter values for data_dict and model in the functions below are just here for backwards compatibility.\n",
    "# Remove them once the frontend is only calling apply."
   ]
  },
  {
   "cell_type": "code",
   "execution_count": 7,
   "metadata": {
    "collapsed": false
   },
   "outputs": [
    {
     "data": {
      "text/html": [
       "<div>\n",
       "<table border=\"1\" class=\"dataframe\">\n",
       "  <thead>\n",
       "    <tr style=\"text-align: right;\">\n",
       "      <th></th>\n",
       "      <th>CDU/CSU</th>\n",
       "      <th>SPD</th>\n",
       "      <th>GRÜNE</th>\n",
       "      <th>FDP</th>\n",
       "      <th>LINKE</th>\n",
       "      <th>AfD</th>\n",
       "      <th>Sonstige</th>\n",
       "    </tr>\n",
       "  </thead>\n",
       "  <tbody>\n",
       "    <tr>\n",
       "      <th>0</th>\n",
       "      <td>0.356912</td>\n",
       "      <td>0.28</td>\n",
       "      <td>0.076471</td>\n",
       "      <td>0.069118</td>\n",
       "      <td>0.084706</td>\n",
       "      <td>0.090294</td>\n",
       "      <td>0.0425</td>\n",
       "    </tr>\n",
       "  </tbody>\n",
       "</table>\n",
       "</div>"
      ],
      "text/plain": [
       "    CDU/CSU   SPD     GRÜNE       FDP     LINKE       AfD  Sonstige\n",
       "0  0.356912  0.28  0.076471  0.069118  0.084706  0.090294    0.0425"
      ]
     },
     "execution_count": 7,
     "metadata": {},
     "output_type": "execute_result"
    }
   ],
   "source": [
    "def average(data_dict=data_dict, n_last=5):\n",
    "    \"\"\"Average the last `n_last` polls from all polling firms.\"\"\"\n",
    "    prediction = np.zeros(len(parties))\n",
    "    for df in data_dict.values():\n",
    "        for i in range(min(n_last, len(df))):  # do not use more rows than the dataframe has\n",
    "            # TODO: Contains some fixes to convert strings to floats. Do this in the data already.\n",
    "            try:\n",
    "                results = np.array(list(map(_p2f, df[parties].iloc[i])))\n",
    "                # TODO: Polls from different polling firms have different time spacing. Take this into account. \n",
    "                prediction += results\n",
    "            except ValueError as e:\n",
    "                pass\n",
    "                #print(e)  # TODO: Probably just a conversion error. Remove this once the data is fixed.\n",
    "    return _prediction_to_dataframe(_normalize_to_one(prediction))\n",
    "\n",
    "average(data_dict)"
   ]
  },
  {
   "cell_type": "code",
   "execution_count": 8,
   "metadata": {
    "collapsed": false
   },
   "outputs": [
    {
     "data": {
      "text/html": [
       "<div>\n",
       "<table border=\"1\" class=\"dataframe\">\n",
       "  <thead>\n",
       "    <tr style=\"text-align: right;\">\n",
       "      <th></th>\n",
       "      <th>CDU/CSU</th>\n",
       "      <th>SPD</th>\n",
       "      <th>GRÜNE</th>\n",
       "      <th>FDP</th>\n",
       "      <th>LINKE</th>\n",
       "      <th>AfD</th>\n",
       "      <th>Sonstige</th>\n",
       "    </tr>\n",
       "  </thead>\n",
       "  <tbody>\n",
       "    <tr>\n",
       "      <th>0</th>\n",
       "      <td>0.359394</td>\n",
       "      <td>0.278651</td>\n",
       "      <td>0.074828</td>\n",
       "      <td>0.07011</td>\n",
       "      <td>0.08544</td>\n",
       "      <td>0.088015</td>\n",
       "      <td>0.043563</td>\n",
       "    </tr>\n",
       "  </tbody>\n",
       "</table>\n",
       "</div>"
      ],
      "text/plain": [
       "    CDU/CSU       SPD     GRÜNE      FDP    LINKE       AfD  Sonstige\n",
       "0  0.359394  0.278651  0.074828  0.07011  0.08544  0.088015  0.043563"
      ]
     },
     "execution_count": 8,
     "metadata": {},
     "output_type": "execute_result"
    }
   ],
   "source": [
    "def weighted_average(data_dict=data_dict, n_last=5):\n",
    "    \"\"\"Average the last `n_last` polls from all polling firms, weighted by the number of participants.\"\"\"\n",
    "    prediction = np.zeros(len(parties))\n",
    "    for df in data_dict.values():\n",
    "        for i in range(min(n_last, len(df))):\n",
    "            # TODO: Contains some fixes to convert strings to floats. Do this in the data already.\n",
    "            try:\n",
    "                results = np.array(list(map(_p2f, df[parties].iloc[i])))\n",
    "                num_people = float(df['Befragte'].iloc[i].replace('.', '').replace('T • ', '').replace('O • ', ''))\n",
    "                # TODO: Polls from different polling firms have different time spacing. Take this into account. \n",
    "                prediction += results * num_people\n",
    "            except ValueError as e:\n",
    "                pass\n",
    "                #print(e)  # TODO: Probably just a conversion error. Remove this once the data is fixed.\n",
    "    return _prediction_to_dataframe(_normalize_to_one(prediction))\n",
    "\n",
    "weighted_average(data_dict)"
   ]
  },
  {
   "cell_type": "code",
   "execution_count": 9,
   "metadata": {
    "collapsed": false
   },
   "outputs": [
    {
     "data": {
      "text/html": [
       "<div>\n",
       "<table border=\"1\" class=\"dataframe\">\n",
       "  <thead>\n",
       "    <tr style=\"text-align: right;\">\n",
       "      <th></th>\n",
       "      <th>CDU/CSU</th>\n",
       "      <th>SPD</th>\n",
       "      <th>GRÜNE</th>\n",
       "      <th>FDP</th>\n",
       "      <th>LINKE</th>\n",
       "      <th>AfD</th>\n",
       "      <th>Sonstige</th>\n",
       "    </tr>\n",
       "  </thead>\n",
       "  <tbody>\n",
       "    <tr>\n",
       "      <th>0</th>\n",
       "      <td>0.376667</td>\n",
       "      <td>0.263333</td>\n",
       "      <td>0.075</td>\n",
       "      <td>0.083333</td>\n",
       "      <td>0.078333</td>\n",
       "      <td>0.08</td>\n",
       "      <td>0.043333</td>\n",
       "    </tr>\n",
       "  </tbody>\n",
       "</table>\n",
       "</div>"
      ],
      "text/plain": [
       "    CDU/CSU       SPD  GRÜNE       FDP     LINKE   AfD  Sonstige\n",
       "0  0.376667  0.263333  0.075  0.083333  0.078333  0.08  0.043333"
      ]
     },
     "execution_count": 9,
     "metadata": {},
     "output_type": "execute_result"
    }
   ],
   "source": [
    "def latest(data_dict=data_dict):\n",
    "    \"\"\"Average the latest polls from all polling firms.\"\"\"\n",
    "    return average(data_dict, n_last=1)\n",
    "\n",
    "latest(data_dict)"
   ]
  },
  {
   "cell_type": "code",
   "execution_count": 10,
   "metadata": {
    "collapsed": false
   },
   "outputs": [
    {
     "data": {
      "text/html": [
       "<div>\n",
       "<table border=\"1\" class=\"dataframe\">\n",
       "  <thead>\n",
       "    <tr style=\"text-align: right;\">\n",
       "      <th></th>\n",
       "      <th>CDU/CSU</th>\n",
       "      <th>SPD</th>\n",
       "      <th>GRÜNE</th>\n",
       "      <th>FDP</th>\n",
       "      <th>LINKE</th>\n",
       "      <th>AfD</th>\n",
       "      <th>Sonstige</th>\n",
       "    </tr>\n",
       "  </thead>\n",
       "  <tbody>\n",
       "    <tr>\n",
       "      <th>0</th>\n",
       "      <td>0.378933</td>\n",
       "      <td>0.260167</td>\n",
       "      <td>0.074627</td>\n",
       "      <td>0.0844</td>\n",
       "      <td>0.079236</td>\n",
       "      <td>0.077978</td>\n",
       "      <td>0.044658</td>\n",
       "    </tr>\n",
       "  </tbody>\n",
       "</table>\n",
       "</div>"
      ],
      "text/plain": [
       "    CDU/CSU       SPD     GRÜNE     FDP     LINKE       AfD  Sonstige\n",
       "0  0.378933  0.260167  0.074627  0.0844  0.079236  0.077978  0.044658"
      ]
     },
     "execution_count": 10,
     "metadata": {},
     "output_type": "execute_result"
    }
   ],
   "source": [
    "def weighted_latest(data_dict=data_dict):\n",
    "    \"\"\"Average the latest polls from all polling firms, weighted by the number of participants.\"\"\"\n",
    "    return weighted_average(data_dict, n_last=1)\n",
    "\n",
    "weighted_latest(data_dict)"
   ]
  },
  {
   "cell_type": "code",
   "execution_count": 11,
   "metadata": {
    "collapsed": false
   },
   "outputs": [
    {
     "data": {
      "text/html": [
       "<div>\n",
       "<table border=\"1\" class=\"dataframe\">\n",
       "  <thead>\n",
       "    <tr style=\"text-align: right;\">\n",
       "      <th></th>\n",
       "      <th>CDU/CSU</th>\n",
       "      <th>SPD</th>\n",
       "      <th>GRÜNE</th>\n",
       "      <th>FDP</th>\n",
       "      <th>LINKE</th>\n",
       "      <th>AfD</th>\n",
       "      <th>Sonstige</th>\n",
       "    </tr>\n",
       "  </thead>\n",
       "  <tbody>\n",
       "    <tr>\n",
       "      <th>0</th>\n",
       "      <td>0.35262</td>\n",
       "      <td>0.265966</td>\n",
       "      <td>0.087552</td>\n",
       "      <td>0.063543</td>\n",
       "      <td>0.086931</td>\n",
       "      <td>0.098351</td>\n",
       "      <td>0.045035</td>\n",
       "    </tr>\n",
       "  </tbody>\n",
       "</table>\n",
       "</div>"
      ],
      "text/plain": [
       "   CDU/CSU       SPD     GRÜNE       FDP     LINKE       AfD  Sonstige\n",
       "0  0.35262  0.265966  0.087552  0.063543  0.086931  0.098351  0.045035"
      ]
     },
     "execution_count": 11,
     "metadata": {},
     "output_type": "execute_result"
    }
   ],
   "source": [
    "def decay(data_dict=data_dict, decay_factor=0.9):\n",
    "    \"\"\"Average all polls from all polling firms, where polls further back are weighted less (exponential decay).\"\"\"\n",
    "    prediction = np.zeros(len(parties))\n",
    "    for df in data_dict.values():\n",
    "        for i in range(len(df)):\n",
    "            # TODO: Contains some fixes to convert strings to floats. Do this in the data already.\n",
    "            try:\n",
    "                results = np.array(list(map(_p2f, df[parties].iloc[i])))\n",
    "                # TODO: Polls from different polling firms have different time spacing. Take this into account. \n",
    "                prediction += results * decay_factor**(i+1)\n",
    "            except ValueError as e:\n",
    "                pass\n",
    "                #print(e)  # TODO: Probably just a conversion error. Remove this once the data is fixed.\n",
    "    return _prediction_to_dataframe(_normalize_to_one(prediction))\n",
    "\n",
    "decay(data_dict)"
   ]
  },
  {
   "cell_type": "code",
   "execution_count": 12,
   "metadata": {
    "collapsed": false
   },
   "outputs": [
    {
     "data": {
      "text/html": [
       "<div>\n",
       "<table border=\"1\" class=\"dataframe\">\n",
       "  <thead>\n",
       "    <tr style=\"text-align: right;\">\n",
       "      <th></th>\n",
       "      <th>CDU/CSU</th>\n",
       "      <th>SPD</th>\n",
       "      <th>GRÜNE</th>\n",
       "      <th>FDP</th>\n",
       "      <th>LINKE</th>\n",
       "      <th>AfD</th>\n",
       "      <th>Sonstige</th>\n",
       "    </tr>\n",
       "  </thead>\n",
       "  <tbody>\n",
       "    <tr>\n",
       "      <th>0</th>\n",
       "      <td>0.351294</td>\n",
       "      <td>0.269363</td>\n",
       "      <td>0.084574</td>\n",
       "      <td>0.064235</td>\n",
       "      <td>0.087114</td>\n",
       "      <td>0.097663</td>\n",
       "      <td>0.045757</td>\n",
       "    </tr>\n",
       "  </tbody>\n",
       "</table>\n",
       "</div>"
      ],
      "text/plain": [
       "    CDU/CSU       SPD     GRÜNE       FDP     LINKE       AfD  Sonstige\n",
       "0  0.351294  0.269363  0.084574  0.064235  0.087114  0.097663  0.045757"
      ]
     },
     "execution_count": 12,
     "metadata": {},
     "output_type": "execute_result"
    }
   ],
   "source": [
    "def weighted_decay(data_dict=data_dict, decay_factor=0.9):\n",
    "    \"\"\"Average all polls from all polling firms, where polls further back are weighted less (exponential decay) and each poll is weighted by the number of participants.\"\"\"\n",
    "    prediction = np.zeros(len(parties))\n",
    "    for df in data_dict.values():\n",
    "        for i in range(len(df)):\n",
    "            # TODO: Contains some fixes to convert strings to floats. Do this in the data already.\n",
    "            try:\n",
    "                results = np.array(list(map(_p2f, df[parties].iloc[i])))\n",
    "                num_people = float(df['Befragte'].iloc[i].replace('.', '').replace('T • ', '').replace('O • ', ''))\n",
    "                # TODO: Polls from different polling firms have different time spacing. Take this into account. \n",
    "                prediction += results * decay_factor**(i+1) * num_people\n",
    "            except ValueError as e:\n",
    "                pass\n",
    "                #print(e)  # TODO: Probably just a conversion error. Remove this once the data is fixed.\n",
    "    return _prediction_to_dataframe(_normalize_to_one(prediction))\n",
    "\n",
    "weighted_decay(data_dict)"
   ]
  },
  {
   "cell_type": "code",
   "execution_count": 13,
   "metadata": {
    "collapsed": false
   },
   "outputs": [],
   "source": [
    "def apply_model(data_dict=data_dict, model=average, **kwargs):\n",
    "    \"\"\"Make a prediction using `model` for each time point in the data.\"\"\"\n",
    "    num_timesteps = max([len(df) for df in data_dict.values()])  # take the max from all dataframes\n",
    "    print('Applying model to {} time points...'.format(num_timesteps))\n",
    "    \n",
    "    prediction_df = model(data_dict, **kwargs)\n",
    "    \n",
    "    for i in range(1, num_timesteps):\n",
    "        sliced_data_dict = {key: df[i:] for key, df in data_dict.items()}\n",
    "        # TODO: Appending the dataframes is probably not very efficient.\n",
    "        # TODO: Due to ill-formated data, the resulting dataframe contains NaNs sometimes.\n",
    "        prediction_df = prediction_df.append(model(sliced_data_dict, **kwargs), ignore_index=True)\n",
    "        \n",
    "    return prediction_df\n",
    "    \n",
    "#pd.options.display.max_rows = 300\n",
    "#apply_model(data_dict, average)"
   ]
  },
  {
   "cell_type": "code",
   "execution_count": 14,
   "metadata": {
    "collapsed": true
   },
   "outputs": [],
   "source": [
    "def score_model(data_dict, model, **kwargs):\n",
    "    prediction_df = apply_model(data_dict, model, **kwargs)\n",
    "    # TODO: Compute average of all dataframes in data_dict, then calculate MSE between this average and the predictions.\n",
    "    return 0\n",
    "\n",
    "#score_model(data_dict, average)"
   ]
  },
  {
   "cell_type": "code",
   "execution_count": 15,
   "metadata": {
    "collapsed": false
   },
   "outputs": [],
   "source": [
    "models = [average, weighted_average, latest, weighted_latest, decay, weighted_decay]\n",
    "def test_all_models():\n",
    "    print('Testing all models with default parameters...')\n",
    "    for model in models:\n",
    "        mse = score_model(data_dict, model)\n",
    "        print('MSE for model \"{}\": {}'.format(model.__name__, mse))\n",
    "        \n",
    "#test_all_models()"
   ]
  },
  {
   "cell_type": "code",
   "execution_count": 16,
   "metadata": {
    "collapsed": false
   },
   "outputs": [],
   "source": [
    "#import matplotlib.pyplot as plt\n",
    "#%matplotlib inline\n",
    "\n",
    "#for model in models:\n",
    "#    prediction_df = apply_model(data_dict, model)\n",
    "#    plt.plot(prediction_df['CDU/CSU'], label=model.__name__)\n",
    "#    plt.legend()\n",
    "#        #print('MSE for model \"{}\": {}'.format(model.__name__, mse))"
   ]
  },
  {
   "cell_type": "code",
   "execution_count": null,
   "metadata": {
    "collapsed": true
   },
   "outputs": [],
   "source": []
  }
 ],
 "metadata": {
  "kernelspec": {
   "display_name": "Python 3",
   "language": "python",
   "name": "python3"
  },
  "language_info": {
   "codemirror_mode": {
    "name": "ipython",
    "version": 3
   },
   "file_extension": ".py",
   "mimetype": "text/x-python",
   "name": "python",
   "nbconvert_exporter": "python",
   "pygments_lexer": "ipython3",
   "version": "3.6.0"
  }
 },
 "nbformat": 4,
 "nbformat_minor": 2
}
