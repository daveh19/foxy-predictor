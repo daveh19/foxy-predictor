{
 "cells": [
  {
   "cell_type": "code",
   "execution_count": 6,
   "metadata": {
    "collapsed": false
   },
   "outputs": [],
   "source": [
    "# TODO: Dirty hack to import from sibling dir. Put wahlrecht_polling_firms.py into the same folder as this file eventually.\n",
    "import sys\n",
    "import os\n",
    "sys.path.append(os.path.abspath('../Backend'))\n",
    "import wahlrecht_polling_firms\n",
    "\n",
    "import numpy as np\n",
    "import pandas as pd\n",
    "\n",
    "data_dict = wahlrecht_polling_firms.get_tables()"
   ]
  },
  {
   "cell_type": "code",
   "execution_count": 7,
   "metadata": {
    "collapsed": true
   },
   "outputs": [],
   "source": [
    "parties = ['CDU/CSU', 'SPD', 'GRÜNE', 'FDP', 'LINKE', 'AfD', 'Sonstige']"
   ]
  },
  {
   "cell_type": "code",
   "execution_count": 17,
   "metadata": {
    "collapsed": false
   },
   "outputs": [
    {
     "data": {
      "text/plain": [
       "1.0"
      ]
     },
     "execution_count": 17,
     "metadata": {},
     "output_type": "execute_result"
    }
   ],
   "source": [
    "def _normalize_to_one(x):\n",
    "    \"\"\"Normalize an array so that its sum is 1.\"\"\"\n",
    "    return x / np.sum(x)\n",
    "\n",
    "np.sum(_normalize_to_one(np.linspace(0, 10)))"
   ]
  },
  {
   "cell_type": "code",
   "execution_count": 9,
   "metadata": {
    "collapsed": true
   },
   "outputs": [],
   "source": [
    "def _p2f(x):\n",
    "    \"\"\"Convert string with percent to float.\"\"\"\n",
    "    return float(x.strip('%').replace(',', '.')) / 100"
   ]
  },
  {
   "cell_type": "code",
   "execution_count": 18,
   "metadata": {
    "collapsed": false
   },
   "outputs": [
    {
     "data": {
      "text/html": [
       "<div>\n",
       "<table border=\"1\" class=\"dataframe\">\n",
       "  <thead>\n",
       "    <tr style=\"text-align: right;\">\n",
       "      <th></th>\n",
       "      <th>CDU/CSU</th>\n",
       "      <th>SPD</th>\n",
       "      <th>GRÜNE</th>\n",
       "      <th>FDP</th>\n",
       "      <th>LINKE</th>\n",
       "      <th>AfD</th>\n",
       "      <th>Sonstige</th>\n",
       "    </tr>\n",
       "  </thead>\n",
       "  <tbody>\n",
       "    <tr>\n",
       "      <th>0</th>\n",
       "      <td>0</td>\n",
       "      <td>1</td>\n",
       "      <td>2</td>\n",
       "      <td>3</td>\n",
       "      <td>4</td>\n",
       "      <td>5</td>\n",
       "      <td>6</td>\n",
       "    </tr>\n",
       "  </tbody>\n",
       "</table>\n",
       "</div>"
      ],
      "text/plain": [
       "   CDU/CSU  SPD  GRÜNE  FDP  LINKE  AfD  Sonstige\n",
       "0        0    1      2    3      4    5         6"
      ]
     },
     "execution_count": 18,
     "metadata": {},
     "output_type": "execute_result"
    }
   ],
   "source": [
    "def _prediction_to_dataframe(prediction):\n",
    "    \"\"\"Wrap an array with the predictions into a dataframe containing the party names.\"\"\"\n",
    "    return pd.DataFrame(data=[prediction], columns=parties)\n",
    "\n",
    "_prediction_to_dataframe(range(len(parties)))"
   ]
  },
  {
   "cell_type": "code",
   "execution_count": 11,
   "metadata": {
    "collapsed": false
   },
   "outputs": [
    {
     "data": {
      "text/html": [
       "<div>\n",
       "<table border=\"1\" class=\"dataframe\">\n",
       "  <thead>\n",
       "    <tr style=\"text-align: right;\">\n",
       "      <th></th>\n",
       "      <th>CDU/CSU</th>\n",
       "      <th>SPD</th>\n",
       "      <th>GRÜNE</th>\n",
       "      <th>FDP</th>\n",
       "      <th>LINKE</th>\n",
       "      <th>AfD</th>\n",
       "      <th>Sonstige</th>\n",
       "    </tr>\n",
       "  </thead>\n",
       "  <tbody>\n",
       "    <tr>\n",
       "      <th>0</th>\n",
       "      <td>0.355429</td>\n",
       "      <td>0.281143</td>\n",
       "      <td>0.076143</td>\n",
       "      <td>0.067714</td>\n",
       "      <td>0.085714</td>\n",
       "      <td>0.091571</td>\n",
       "      <td>0.042286</td>\n",
       "    </tr>\n",
       "  </tbody>\n",
       "</table>\n",
       "</div>"
      ],
      "text/plain": [
       "    CDU/CSU       SPD     GRÜNE       FDP     LINKE       AfD  Sonstige\n",
       "0  0.355429  0.281143  0.076143  0.067714  0.085714  0.091571  0.042286"
      ]
     },
     "execution_count": 11,
     "metadata": {},
     "output_type": "execute_result"
    }
   ],
   "source": [
    "def average(n_last=5):\n",
    "    \"\"\"Average the last `n_last` polls from all polling firms.\"\"\"\n",
    "    prediction = np.zeros(len(parties))\n",
    "    for df in data_dict.values():\n",
    "        for i in range(n_last):\n",
    "            # TODO: Contains some fixes to convert strings to floats. Do this in the data already.\n",
    "            try:\n",
    "                results = np.array(list(map(_p2f, df[parties].ix[i])))\n",
    "                # TODO: Polls from different polling firms have different time spacing. Take this into account. \n",
    "                prediction += results\n",
    "            except ValueError as e:\n",
    "                print(e)  # TODO: Probably just a conversion error. Remove this once the data is fixed.\n",
    "    return _prediction_to_dataframe(_normalize_to_one(prediction))\n",
    "\n",
    "average()"
   ]
  },
  {
   "cell_type": "code",
   "execution_count": 12,
   "metadata": {
    "collapsed": false
   },
   "outputs": [
    {
     "data": {
      "text/html": [
       "<div>\n",
       "<table border=\"1\" class=\"dataframe\">\n",
       "  <thead>\n",
       "    <tr style=\"text-align: right;\">\n",
       "      <th></th>\n",
       "      <th>CDU/CSU</th>\n",
       "      <th>SPD</th>\n",
       "      <th>GRÜNE</th>\n",
       "      <th>FDP</th>\n",
       "      <th>LINKE</th>\n",
       "      <th>AfD</th>\n",
       "      <th>Sonstige</th>\n",
       "    </tr>\n",
       "  </thead>\n",
       "  <tbody>\n",
       "    <tr>\n",
       "      <th>0</th>\n",
       "      <td>0.357701</td>\n",
       "      <td>0.280034</td>\n",
       "      <td>0.074463</td>\n",
       "      <td>0.068739</td>\n",
       "      <td>0.08645</td>\n",
       "      <td>0.089384</td>\n",
       "      <td>0.043228</td>\n",
       "    </tr>\n",
       "  </tbody>\n",
       "</table>\n",
       "</div>"
      ],
      "text/plain": [
       "    CDU/CSU       SPD     GRÜNE       FDP    LINKE       AfD  Sonstige\n",
       "0  0.357701  0.280034  0.074463  0.068739  0.08645  0.089384  0.043228"
      ]
     },
     "execution_count": 12,
     "metadata": {},
     "output_type": "execute_result"
    }
   ],
   "source": [
    "def weighted_average(n_last=5):\n",
    "    \"\"\"Average the last `n_last` polls from all polling firms, weighted by the number of participants.\"\"\"\n",
    "    prediction = np.zeros(len(parties))\n",
    "    for df in data_dict.values():\n",
    "        for i in range(n_last):\n",
    "            # TODO: Contains some fixes to convert strings to floats. Do this in the data already.\n",
    "            try:\n",
    "                results = np.array(list(map(_p2f, df[parties].ix[i])))\n",
    "                num_people = float(df['Befragte'].ix[i].replace('.', '').replace('T • ', '').replace('O • ', ''))\n",
    "                # TODO: Polls from different polling firms have different time spacing. Take this into account. \n",
    "                prediction += results * num_people\n",
    "            except ValueError as e:\n",
    "                print(e)  # TODO: Probably just a conversion error. Remove this once the data is fixed.\n",
    "    return _prediction_to_dataframe(_normalize_to_one(prediction))\n",
    "\n",
    "weighted_average()"
   ]
  },
  {
   "cell_type": "code",
   "execution_count": 13,
   "metadata": {
    "collapsed": false
   },
   "outputs": [
    {
     "data": {
      "text/html": [
       "<div>\n",
       "<table border=\"1\" class=\"dataframe\">\n",
       "  <thead>\n",
       "    <tr style=\"text-align: right;\">\n",
       "      <th></th>\n",
       "      <th>CDU/CSU</th>\n",
       "      <th>SPD</th>\n",
       "      <th>GRÜNE</th>\n",
       "      <th>FDP</th>\n",
       "      <th>LINKE</th>\n",
       "      <th>AfD</th>\n",
       "      <th>Sonstige</th>\n",
       "    </tr>\n",
       "  </thead>\n",
       "  <tbody>\n",
       "    <tr>\n",
       "      <th>0</th>\n",
       "      <td>0.373571</td>\n",
       "      <td>0.271429</td>\n",
       "      <td>0.07</td>\n",
       "      <td>0.079286</td>\n",
       "      <td>0.084286</td>\n",
       "      <td>0.078571</td>\n",
       "      <td>0.042857</td>\n",
       "    </tr>\n",
       "  </tbody>\n",
       "</table>\n",
       "</div>"
      ],
      "text/plain": [
       "    CDU/CSU       SPD  GRÜNE       FDP     LINKE       AfD  Sonstige\n",
       "0  0.373571  0.271429   0.07  0.079286  0.084286  0.078571  0.042857"
      ]
     },
     "execution_count": 13,
     "metadata": {},
     "output_type": "execute_result"
    }
   ],
   "source": [
    "def latest():\n",
    "    \"\"\"Average the latest polls from all polling firms.\"\"\"\n",
    "    return average(n_last=1)\n",
    "\n",
    "latest()"
   ]
  },
  {
   "cell_type": "code",
   "execution_count": 14,
   "metadata": {
    "collapsed": false
   },
   "outputs": [
    {
     "data": {
      "text/html": [
       "<div>\n",
       "<table border=\"1\" class=\"dataframe\">\n",
       "  <thead>\n",
       "    <tr style=\"text-align: right;\">\n",
       "      <th></th>\n",
       "      <th>CDU/CSU</th>\n",
       "      <th>SPD</th>\n",
       "      <th>GRÜNE</th>\n",
       "      <th>FDP</th>\n",
       "      <th>LINKE</th>\n",
       "      <th>AfD</th>\n",
       "      <th>Sonstige</th>\n",
       "    </tr>\n",
       "  </thead>\n",
       "  <tbody>\n",
       "    <tr>\n",
       "      <th>0</th>\n",
       "      <td>0.375411</td>\n",
       "      <td>0.267579</td>\n",
       "      <td>0.069126</td>\n",
       "      <td>0.080299</td>\n",
       "      <td>0.086151</td>\n",
       "      <td>0.077244</td>\n",
       "      <td>0.04419</td>\n",
       "    </tr>\n",
       "  </tbody>\n",
       "</table>\n",
       "</div>"
      ],
      "text/plain": [
       "    CDU/CSU       SPD     GRÜNE       FDP     LINKE       AfD  Sonstige\n",
       "0  0.375411  0.267579  0.069126  0.080299  0.086151  0.077244   0.04419"
      ]
     },
     "execution_count": 14,
     "metadata": {},
     "output_type": "execute_result"
    }
   ],
   "source": [
    "def weighted_latest():\n",
    "    \"\"\"Average the latest polls from all polling firms, weighted by the number of participants.\"\"\"\n",
    "    return weighted_average(n_last=1)\n",
    "\n",
    "weighted_latest()"
   ]
  },
  {
   "cell_type": "code",
   "execution_count": 15,
   "metadata": {
    "collapsed": false
   },
   "outputs": [
    {
     "name": "stdout",
     "output_type": "stream",
     "text": [
      "could not convert string to float: 'PIR 2.2 %Sonst. 4.0 '\n",
      "could not convert string to float: 'PIR 2.2 %Sonst. 4.0 '\n",
      "could not convert string to float: 'PIR 3 %Sonst. 5 '\n",
      "could not convert string to float: 'PIR 2.2 %Sonst. 4.0 '\n",
      "could not convert string to float: '–'\n",
      "could not convert string to float: '–'\n",
      "could not convert string to float: '–'\n",
      "could not convert string to float: 'PIRATEN 3 %Sonst. 3 '\n",
      "could not convert string to float: 'PIRATEN 2.2 %Sonst. 4.0 '\n",
      "could not convert string to float: '–'\n",
      "could not convert string to float: '–'\n",
      "could not convert string to float: '–'\n",
      "could not convert string to float: '–'\n",
      "could not convert string to float: '–'\n",
      "could not convert string to float: '–'\n",
      "could not convert string to float: '–'\n",
      "could not convert string to float: '–'\n",
      "could not convert string to float: '–'\n",
      "could not convert string to float: '–'\n",
      "could not convert string to float: '–'\n",
      "could not convert string to float: '–'\n",
      "could not convert string to float: '–'\n",
      "could not convert string to float: '–'\n",
      "could not convert string to float: '–'\n",
      "could not convert string to float: '–'\n",
      "could not convert string to float: '–'\n",
      "could not convert string to float: '–'\n",
      "could not convert string to float: '–'\n",
      "could not convert string to float: '–'\n",
      "could not convert string to float: '–'\n",
      "could not convert string to float: '–'\n",
      "could not convert string to float: '–'\n",
      "could not convert string to float: '–'\n",
      "could not convert string to float: '–'\n",
      "could not convert string to float: '–'\n",
      "could not convert string to float: '–'\n",
      "could not convert string to float: '–'\n",
      "could not convert string to float: '–'\n",
      "could not convert string to float: '–'\n",
      "could not convert string to float: '–'\n",
      "could not convert string to float: '–'\n",
      "could not convert string to float: '–'\n",
      "could not convert string to float: '–'\n",
      "could not convert string to float: '–'\n",
      "could not convert string to float: '–'\n",
      "could not convert string to float: '–'\n",
      "could not convert string to float: '–'\n",
      "could not convert string to float: '–'\n",
      "could not convert string to float: '–'\n",
      "could not convert string to float: '–'\n",
      "could not convert string to float: '–'\n",
      "could not convert string to float: '–'\n",
      "could not convert string to float: '–'\n",
      "could not convert string to float: '–'\n",
      "could not convert string to float: 'PIR 2.2 %Sonst. 4.0 '\n",
      "could not convert string to float: 'Zur telefonischen Umfrage (CATI) von INSA'\n",
      "could not convert string to float: '?'\n",
      "could not convert string to float: '–'\n",
      "could not convert string to float: '–'\n",
      "could not convert string to float: '–'\n",
      "could not convert string to float: '–'\n",
      "could not convert string to float: '–'\n",
      "could not convert string to float: '–'\n",
      "could not convert string to float: '–'\n",
      "could not convert string to float: '–'\n",
      "could not convert string to float: '–'\n",
      "could not convert string to float: '–'\n",
      "could not convert string to float: '–'\n",
      "could not convert string to float: '–'\n",
      "could not convert string to float: '–'\n",
      "could not convert string to float: '–'\n",
      "could not convert string to float: '–'\n",
      "could not convert string to float: '–'\n",
      "could not convert string to float: '–'\n",
      "could not convert string to float: '–'\n",
      "could not convert string to float: '–'\n",
      "could not convert string to float: '–'\n",
      "could not convert string to float: '–'\n",
      "could not convert string to float: '–'\n",
      "could not convert string to float: '–'\n",
      "could not convert string to float: '–'\n",
      "could not convert string to float: '–'\n",
      "could not convert string to float: '–'\n",
      "could not convert string to float: '–'\n",
      "could not convert string to float: '–'\n",
      "could not convert string to float: '–'\n",
      "could not convert string to float: '–'\n",
      "could not convert string to float: '–'\n",
      "could not convert string to float: '–'\n",
      "could not convert string to float: '–'\n",
      "could not convert string to float: '–'\n",
      "could not convert string to float: '–'\n",
      "could not convert string to float: '–'\n",
      "could not convert string to float: '–'\n",
      "could not convert string to float: '–'\n",
      "could not convert string to float: '–'\n",
      "could not convert string to float: '–'\n",
      "could not convert string to float: '–'\n",
      "could not convert string to float: '–'\n",
      "could not convert string to float: '–'\n",
      "could not convert string to float: '–'\n",
      "could not convert string to float: '–'\n",
      "could not convert string to float: '–'\n",
      "could not convert string to float: '–'\n",
      "could not convert string to float: '–'\n",
      "could not convert string to float: '–'\n",
      "could not convert string to float: '–'\n",
      "could not convert string to float: '–'\n",
      "could not convert string to float: '–'\n",
      "could not convert string to float: '–'\n"
     ]
    },
    {
     "data": {
      "text/html": [
       "<div>\n",
       "<table border=\"1\" class=\"dataframe\">\n",
       "  <thead>\n",
       "    <tr style=\"text-align: right;\">\n",
       "      <th></th>\n",
       "      <th>CDU/CSU</th>\n",
       "      <th>SPD</th>\n",
       "      <th>GRÜNE</th>\n",
       "      <th>FDP</th>\n",
       "      <th>LINKE</th>\n",
       "      <th>AfD</th>\n",
       "      <th>Sonstige</th>\n",
       "    </tr>\n",
       "  </thead>\n",
       "  <tbody>\n",
       "    <tr>\n",
       "      <th>0</th>\n",
       "      <td>0.351692</td>\n",
       "      <td>0.266669</td>\n",
       "      <td>0.087518</td>\n",
       "      <td>0.06299</td>\n",
       "      <td>0.087306</td>\n",
       "      <td>0.098836</td>\n",
       "      <td>0.04499</td>\n",
       "    </tr>\n",
       "  </tbody>\n",
       "</table>\n",
       "</div>"
      ],
      "text/plain": [
       "    CDU/CSU       SPD     GRÜNE      FDP     LINKE       AfD  Sonstige\n",
       "0  0.351692  0.266669  0.087518  0.06299  0.087306  0.098836   0.04499"
      ]
     },
     "execution_count": 15,
     "metadata": {},
     "output_type": "execute_result"
    }
   ],
   "source": [
    "def decay(decay_factor=0.9):\n",
    "    \"\"\"Average all polls from all polling firms, where polls further back are weighted less (exponential decay).\"\"\"\n",
    "    prediction = np.zeros(len(parties))\n",
    "    for df in data_dict.values():\n",
    "        for i in range(len(df)):\n",
    "            # TODO: Contains some fixes to convert strings to floats. Do this in the data already.\n",
    "            try:\n",
    "                results = np.array(list(map(_p2f, df[parties].ix[i])))\n",
    "                # TODO: Polls from different polling firms have different time spacing. Take this into account. \n",
    "                prediction += results * decay_factor**(i+1)\n",
    "            except ValueError as e:\n",
    "                print(e)  # TODO: Probably just a conversion error. Remove this once the data is fixed.\n",
    "    return _prediction_to_dataframe(_normalize_to_one(prediction))\n",
    "\n",
    "decay()"
   ]
  },
  {
   "cell_type": "code",
   "execution_count": 16,
   "metadata": {
    "collapsed": false
   },
   "outputs": [
    {
     "name": "stdout",
     "output_type": "stream",
     "text": [
      "could not convert string to float: '≈1400'\n",
      "could not convert string to float: '≈1400'\n",
      "could not convert string to float: '≈1400'\n",
      "could not convert string to float: '≈1200'\n",
      "could not convert string to float: '≈1400'\n",
      "could not convert string to float: '?'\n",
      "could not convert string to float: '?'\n",
      "could not convert string to float: '?'\n",
      "could not convert string to float: '?'\n",
      "could not convert string to float: '?'\n",
      "could not convert string to float: '?'\n",
      "could not convert string to float: '?'\n",
      "could not convert string to float: '?'\n",
      "could not convert string to float: '?'\n",
      "could not convert string to float: '?'\n",
      "could not convert string to float: '?'\n",
      "could not convert string to float: '?'\n",
      "could not convert string to float: '?'\n",
      "could not convert string to float: 'PIR 2.2 %Sonst. 4.0 '\n",
      "could not convert string to float: 'PIR 2.2 %Sonst. 4.0 '\n",
      "could not convert string to float: 'PIR 3 %Sonst. 5 '\n",
      "could not convert string to float: 'PIR 2.2 %Sonst. 4.0 '\n",
      "could not convert string to float: '–'\n",
      "could not convert string to float: '–'\n",
      "could not convert string to float: '–'\n",
      "could not convert string to float: 'PIRATEN 3 %Sonst. 3 '\n",
      "could not convert string to float: 'PIRATEN 2.2 %Sonst. 4.0 '\n",
      "could not convert string to float: 'Bundestagswahl'\n",
      "could not convert string to float: '–'\n",
      "could not convert string to float: '–'\n",
      "could not convert string to float: '–'\n",
      "could not convert string to float: '–'\n",
      "could not convert string to float: '–'\n",
      "could not convert string to float: '–'\n",
      "could not convert string to float: '–'\n",
      "could not convert string to float: '–'\n",
      "could not convert string to float: '–'\n",
      "could not convert string to float: '–'\n",
      "could not convert string to float: '–'\n",
      "could not convert string to float: '–'\n",
      "could not convert string to float: '–'\n",
      "could not convert string to float: '–'\n",
      "could not convert string to float: '–'\n",
      "could not convert string to float: '–'\n",
      "could not convert string to float: '–'\n",
      "could not convert string to float: '–'\n",
      "could not convert string to float: '–'\n",
      "could not convert string to float: '–'\n",
      "could not convert string to float: '–'\n",
      "could not convert string to float: '–'\n",
      "could not convert string to float: '–'\n",
      "could not convert string to float: '–'\n",
      "could not convert string to float: '–'\n",
      "could not convert string to float: '–'\n",
      "could not convert string to float: '–'\n",
      "could not convert string to float: '–'\n",
      "could not convert string to float: '–'\n",
      "could not convert string to float: '–'\n",
      "could not convert string to float: '–'\n",
      "could not convert string to float: '–'\n",
      "could not convert string to float: '–'\n",
      "could not convert string to float: '–'\n",
      "could not convert string to float: '–'\n",
      "could not convert string to float: '–'\n",
      "could not convert string to float: '–'\n",
      "could not convert string to float: '–'\n",
      "could not convert string to float: '–'\n",
      "could not convert string to float: '–'\n",
      "could not convert string to float: '–'\n",
      "could not convert string to float: '–'\n",
      "could not convert string to float: '–'\n",
      "could not convert string to float: '–'\n",
      "could not convert string to float: '–'\n",
      "could not convert string to float: 'PIR 2.2 %Sonst. 4.0 '\n",
      "could not convert string to float: 'Zur telefonischen Umfrage (CATI) von INSA'\n",
      "could not convert string to float: 'Bundestagswahl'\n",
      "could not convert string to float: '?'\n",
      "could not convert string to float: '–'\n",
      "could not convert string to float: '–'\n",
      "could not convert string to float: '–'\n",
      "could not convert string to float: '–'\n",
      "could not convert string to float: '–'\n",
      "could not convert string to float: '–'\n",
      "could not convert string to float: '–'\n",
      "could not convert string to float: '–'\n",
      "could not convert string to float: '–'\n",
      "could not convert string to float: '–'\n",
      "could not convert string to float: '–'\n",
      "could not convert string to float: '–'\n",
      "could not convert string to float: '–'\n",
      "could not convert string to float: '–'\n",
      "could not convert string to float: '–'\n",
      "could not convert string to float: '–'\n",
      "could not convert string to float: '–'\n",
      "could not convert string to float: '–'\n",
      "could not convert string to float: '–'\n",
      "could not convert string to float: '–'\n",
      "could not convert string to float: '–'\n",
      "could not convert string to float: '–'\n",
      "could not convert string to float: '–'\n",
      "could not convert string to float: '–'\n",
      "could not convert string to float: '–'\n",
      "could not convert string to float: '–'\n",
      "could not convert string to float: '–'\n",
      "could not convert string to float: '–'\n",
      "could not convert string to float: '–'\n",
      "could not convert string to float: '–'\n",
      "could not convert string to float: '–'\n",
      "could not convert string to float: '–'\n",
      "could not convert string to float: '–'\n",
      "could not convert string to float: '–'\n",
      "could not convert string to float: '–'\n",
      "could not convert string to float: '–'\n",
      "could not convert string to float: '–'\n",
      "could not convert string to float: '–'\n",
      "could not convert string to float: '–'\n",
      "could not convert string to float: '–'\n",
      "could not convert string to float: '–'\n",
      "could not convert string to float: '–'\n",
      "could not convert string to float: '–'\n",
      "could not convert string to float: '–'\n",
      "could not convert string to float: '–'\n",
      "could not convert string to float: '–'\n",
      "could not convert string to float: '–'\n",
      "could not convert string to float: '–'\n",
      "could not convert string to float: '–'\n",
      "could not convert string to float: '–'\n",
      "could not convert string to float: '–'\n",
      "could not convert string to float: '–'\n",
      "could not convert string to float: '–'\n"
     ]
    },
    {
     "data": {
      "text/html": [
       "<div>\n",
       "<table border=\"1\" class=\"dataframe\">\n",
       "  <thead>\n",
       "    <tr style=\"text-align: right;\">\n",
       "      <th></th>\n",
       "      <th>CDU/CSU</th>\n",
       "      <th>SPD</th>\n",
       "      <th>GRÜNE</th>\n",
       "      <th>FDP</th>\n",
       "      <th>LINKE</th>\n",
       "      <th>AfD</th>\n",
       "      <th>Sonstige</th>\n",
       "    </tr>\n",
       "  </thead>\n",
       "  <tbody>\n",
       "    <tr>\n",
       "      <th>0</th>\n",
       "      <td>0.350253</td>\n",
       "      <td>0.270133</td>\n",
       "      <td>0.084474</td>\n",
       "      <td>0.063716</td>\n",
       "      <td>0.087522</td>\n",
       "      <td>0.098235</td>\n",
       "      <td>0.045666</td>\n",
       "    </tr>\n",
       "  </tbody>\n",
       "</table>\n",
       "</div>"
      ],
      "text/plain": [
       "    CDU/CSU       SPD     GRÜNE       FDP     LINKE       AfD  Sonstige\n",
       "0  0.350253  0.270133  0.084474  0.063716  0.087522  0.098235  0.045666"
      ]
     },
     "execution_count": 16,
     "metadata": {},
     "output_type": "execute_result"
    }
   ],
   "source": [
    "def weighted_decay(decay_factor=0.9):\n",
    "    \"\"\"Average all polls from all polling firms, where polls further back are weighted less (exponential decay) and each poll is weighted by the number of participants.\"\"\"\n",
    "    prediction = np.zeros(len(parties))\n",
    "    for df in data_dict.values():\n",
    "        for i in range(len(df)):\n",
    "            # TODO: Contains some fixes to convert strings to floats. Do this in the data already.\n",
    "            try:\n",
    "                results = np.array(list(map(_p2f, df[parties].ix[i])))\n",
    "                num_people = float(df['Befragte'].ix[i].replace('.', '').replace('T • ', '').replace('O • ', ''))\n",
    "                # TODO: Polls from different polling firms have different time spacing. Take this into account. \n",
    "                prediction += results * decay_factor**(i+1) * num_people\n",
    "            except ValueError as e:\n",
    "                print(e)  # TODO: Probably just a conversion error. Remove this once the data is fixed.\n",
    "    return _prediction_to_dataframe(_normalize_to_one(prediction))\n",
    "\n",
    "weighted_decay()"
   ]
  },
  {
   "cell_type": "code",
   "execution_count": null,
   "metadata": {
    "collapsed": true
   },
   "outputs": [],
   "source": []
  }
 ],
 "metadata": {
  "kernelspec": {
   "display_name": "Python 3",
   "language": "python",
   "name": "python3"
  },
  "language_info": {
   "codemirror_mode": {
    "name": "ipython",
    "version": 3
   },
   "file_extension": ".py",
   "mimetype": "text/x-python",
   "name": "python",
   "nbconvert_exporter": "python",
   "pygments_lexer": "ipython3",
   "version": "3.6.0"
  }
 },
 "nbformat": 4,
 "nbformat_minor": 2
}
